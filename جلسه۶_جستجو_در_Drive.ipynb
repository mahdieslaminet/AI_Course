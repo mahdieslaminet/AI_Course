{
  "cells": [
    {
      "cell_type": "markdown",
      "metadata": {
        "id": "view-in-github",
        "colab_type": "text"
      },
      "source": [
        "<a href=\"https://colab.research.google.com/github/mahdieslaminet/AI_Course/blob/main/%D8%AC%D9%84%D8%B3%D9%87%DB%B6_%D8%AC%D8%B3%D8%AA%D8%AC%D9%88_%D8%AF%D8%B1_Drive.ipynb\" target=\"_parent\"><img src=\"https://colab.research.google.com/assets/colab-badge.svg\" alt=\"Open In Colab\"/></a>"
      ]
    },
    {
      "cell_type": "markdown",
      "id": "f28b50a3",
      "metadata": {
        "id": "f28b50a3"
      },
      "source": [
        "# جلسه ۶: جستجوی فایل‌ها در Google Drive با Python"
      ]
    },
    {
      "cell_type": "markdown",
      "id": "7c90185f",
      "metadata": {
        "id": "7c90185f"
      },
      "source": [
        "در این جلسه یاد می‌گیریم چگونه در فایل‌ها و پوشه‌های Google Drive با استفاده از پایتون جستجو کنیم."
      ]
    },
    {
      "cell_type": "markdown",
      "id": "8d38a477",
      "metadata": {
        "id": "8d38a477"
      },
      "source": [
        "## 1. اتصال به Google Drive"
      ]
    },
    {
      "cell_type": "code",
      "execution_count": 1,
      "id": "7ca83ad2",
      "metadata": {
        "id": "7ca83ad2",
        "outputId": "cc06a407-17f3-4b6d-c848-f9867558dc87",
        "colab": {
          "base_uri": "https://localhost:8080/"
        }
      },
      "outputs": [
        {
          "output_type": "stream",
          "name": "stdout",
          "text": [
            "Mounted at /content/drive\n"
          ]
        }
      ],
      "source": [
        "from google.colab import drive\n",
        "drive.mount('/content/drive')"
      ]
    },
    {
      "cell_type": "markdown",
      "id": "ee96c60b",
      "metadata": {
        "id": "ee96c60b"
      },
      "source": [
        "## 2. جستجوی فایل‌ها در یک مسیر خاص"
      ]
    },
    {
      "cell_type": "code",
      "execution_count": 2,
      "id": "cc10287a",
      "metadata": {
        "id": "cc10287a",
        "outputId": "edc798d5-b113-4134-a82a-62fa4cd6d002",
        "colab": {
          "base_uri": "https://localhost:8080/"
        }
      },
      "outputs": [
        {
          "output_type": "stream",
          "name": "stdout",
          "text": [
            "/content/drive/MyDrive/AI_Course/جلسه۱۶_ساخت_گزارش_PDF_از_متن.ipynb\n",
            "/content/drive/MyDrive/AI_Course/جلسه۱۰_ترکیب_Word_و_Excel_برای_گزارش.ipynb\n",
            "/content/drive/MyDrive/AI_Course/گزارش.xlsx\n",
            "/content/drive/MyDrive/AI_Course/گزارش2.docx\n"
          ]
        }
      ],
      "source": [
        "import os\n",
        "\n",
        "search_path = \"/content/drive/MyDrive/AI_Course/\"\n",
        "search_term = \"گزارش\"\n",
        "\n",
        "for root, dirs, files in os.walk(search_path):\n",
        "    for file in files:\n",
        "        if search_term in file:\n",
        "            print(os.path.join(root, file))"
      ]
    },
    {
      "cell_type": "markdown",
      "id": "7e4d0575",
      "metadata": {
        "id": "7e4d0575"
      },
      "source": [
        "## 3. جستجوی فایل‌هایی با پسوند خاص (مثلاً PDF یا xlsx)"
      ]
    },
    {
      "cell_type": "code",
      "execution_count": 4,
      "id": "0ce19895",
      "metadata": {
        "id": "0ce19895",
        "outputId": "741e1f57-fb81-40c3-b5a4-6f731f15b4cf",
        "colab": {
          "base_uri": "https://localhost:8080/"
        }
      },
      "outputs": [
        {
          "output_type": "stream",
          "name": "stdout",
          "text": [
            "/content/drive/MyDrive/AI_Course/ادامه سرفصل های دوره.pdf\n",
            "/content/drive/MyDrive/AI_Course/کارمندان (1).xlsx\n",
            "/content/drive/MyDrive/AI_Course/کارمندان.xlsx\n",
            "/content/drive/MyDrive/AI_Course/نامه_اداری.docx\n",
            "/content/drive/MyDrive/AI_Course/ساختار دوره آموزشی.pdf\n",
            "/content/drive/MyDrive/AI_Course/Copy of کارمندان.xlsx\n",
            "/content/drive/MyDrive/AI_Course/Karmandan.xlsx\n",
            "/content/drive/MyDrive/AI_Course/گزارش.xlsx\n",
            "/content/drive/MyDrive/AI_Course/گزارش2.docx\n"
          ]
        }
      ],
      "source": [
        "for root, dirs, files in os.walk(search_path):\n",
        "    for file in files:\n",
        "        if file.endswith(\".pdf\") or file.endswith(\".xlsx\") or file.endswith(\".docx\"):\n",
        "            print(os.path.join(root, file))"
      ]
    }
  ],
  "metadata": {
    "colab": {
      "provenance": [],
      "include_colab_link": true
    },
    "language_info": {
      "name": "python"
    },
    "kernelspec": {
      "name": "python3",
      "display_name": "Python 3"
    }
  },
  "nbformat": 4,
  "nbformat_minor": 5
}