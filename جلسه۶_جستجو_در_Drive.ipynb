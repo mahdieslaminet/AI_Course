{
 "cells": [
  {
   "cell_type": "markdown",
   "id": "f28b50a3",
   "metadata": {},
   "source": [
    "# جلسه ۶: جستجوی فایل‌ها در Google Drive با Python"
   ]
  },
  {
   "cell_type": "markdown",
   "id": "7c90185f",
   "metadata": {},
   "source": [
    "در این جلسه یاد می‌گیریم چگونه در فایل‌ها و پوشه‌های Google Drive با استفاده از پایتون جستجو کنیم."
   ]
  },
  {
   "cell_type": "markdown",
   "id": "8d38a477",
   "metadata": {},
   "source": [
    "## 1. اتصال به Google Drive"
   ]
  },
  {
   "cell_type": "code",
   "execution_count": null,
   "id": "7ca83ad2",
   "metadata": {},
   "outputs": [],
   "source": [
    "from google.colab import drive\n",
    "drive.mount('/content/drive')"
   ]
  },
  {
   "cell_type": "markdown",
   "id": "ee96c60b",
   "metadata": {},
   "source": [
    "## 2. جستجوی فایل‌ها در یک مسیر خاص"
   ]
  },
  {
   "cell_type": "code",
   "execution_count": null,
   "id": "cc10287a",
   "metadata": {},
   "outputs": [],
   "source": [
    "import os\n",
    "\n",
    "search_path = \"/content/drive/MyDrive/\"\n",
    "search_term = \"گزارش\"\n",
    "\n",
    "for root, dirs, files in os.walk(search_path):\n",
    "    for file in files:\n",
    "        if search_term in file:\n",
    "            print(os.path.join(root, file))"
   ]
  },
  {
   "cell_type": "markdown",
   "id": "7e4d0575",
   "metadata": {},
   "source": [
    "## 3. جستجوی فایل‌هایی با پسوند خاص (مثلاً PDF یا xlsx)"
   ]
  },
  {
   "cell_type": "code",
   "execution_count": null,
   "id": "0ce19895",
   "metadata": {},
   "outputs": [],
   "source": [
    "for root, dirs, files in os.walk(search_path):\n",
    "    for file in files:\n",
    "        if file.endswith(\".pdf\") or file.endswith(\".xlsx\"):\n",
    "            print(os.path.join(root, file))"
   ]
  }
 ],
 "metadata": {},
 "nbformat": 4,
 "nbformat_minor": 5
}
