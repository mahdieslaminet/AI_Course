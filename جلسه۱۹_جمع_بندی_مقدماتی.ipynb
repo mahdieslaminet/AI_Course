{
 "cells": [
  {
   "cell_type": "markdown",
   "id": "f4e4709a",
   "metadata": {},
   "source": [
    "# جلسه ۱۹: جمع‌بندی آموزش‌های مقدماتی (جلسات ۱ تا ۹)"
   ]
  },
  {
   "cell_type": "markdown",
   "id": "69b04257",
   "metadata": {},
   "source": [
    "\n",
    "🎯 **هدف:**  \n",
    "در این جلسه، به مرور آموزش‌های مقدماتی مربوط به کارمندان اداری و دبیرخانه می‌پردازیم و یک دید کلی و منسجم ارائه می‌دهیم.\n",
    "\n",
    "📚 **خلاصه جلسات ۱ تا ۹:**  \n",
    "✅ نحوه کار با فایل‌های Excel و Word  \n",
    "✅ فیلتر، جستجو، و ویرایش اطلاعات  \n",
    "✅ رسم نمودارهای ساده و کاربردی  \n",
    "✅ ذخیره‌سازی فایل‌ها در Google Drive  \n",
    "✅ نحوه بارگذاری و پردازش داده‌ها در Google Colab\n",
    "\n",
    "🧪 در این جلسه می‌توانید کدهای کلیدی و کاربردی از هر موضوع را ببینید و تست کنید.\n"
   ]
  },
  {
   "cell_type": "markdown",
   "id": "fe142c82",
   "metadata": {},
   "source": [
    "## نمونه: بارگذاری و مشاهده فایل Excel"
   ]
  },
  {
   "cell_type": "code",
   "execution_count": null,
   "id": "f935e93a",
   "metadata": {},
   "outputs": [],
   "source": [
    "import pandas as pd\n",
    "from google.colab import files\n",
    "\n",
    "uploaded = files.upload()\n",
    "df = pd.read_excel(next(iter(uploaded)))\n",
    "df.head()"
   ]
  },
  {
   "cell_type": "markdown",
   "id": "9185f319",
   "metadata": {},
   "source": [
    "## نمونه: جستجو در متن Word"
   ]
  },
  {
   "cell_type": "code",
   "execution_count": null,
   "id": "55051b05",
   "metadata": {},
   "outputs": [],
   "source": [
    "from docx import Document\n",
    "doc = Document('sample.docx')\n",
    "text = \"\\n\".join(p.text for p in doc.paragraphs)\n",
    "query = input(\"کلمه یا عبارت موردنظر؟ \")\n",
    "if query in text:\n",
    "    print(\"✅ یافت شد\")\n",
    "else:\n",
    "    print(\"❌ یافت نشد\")"
   ]
  }
 ],
 "metadata": {},
 "nbformat": 4,
 "nbformat_minor": 5
}
