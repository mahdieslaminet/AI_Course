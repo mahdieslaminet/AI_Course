{
  "cells": [
    {
      "cell_type": "markdown",
      "metadata": {
        "id": "view-in-github",
        "colab_type": "text"
      },
      "source": [
        "<a href=\"https://colab.research.google.com/github/mahdieslaminet/AI_Course/blob/main/Basics%20for%20Python.ipynb\" target=\"_parent\"><img src=\"https://colab.research.google.com/assets/colab-badge.svg\" alt=\"Open In Colab\"/></a>"
      ]
    },
    {
      "cell_type": "markdown",
      "id": "652a7539",
      "metadata": {
        "id": "652a7539"
      },
      "source": [
        "[link text](https://)# Basic syntax"
      ]
    },
    {
      "cell_type": "markdown",
      "id": "0d2839a3-a84d-4a3e-ad35-b2b0f2b1eed2",
      "metadata": {
        "id": "0d2839a3-a84d-4a3e-ad35-b2b0f2b1eed2"
      },
      "source": [
        "بسمه تعالی\n",
        "\n",
        "آموزش مختصر برنامه نویسی در محیط کولب به زبان پایتون\n",
        "\n",
        "\n",
        "\n",
        " متغیرها در پایتون و انواع آنها\n",
        "در پایتون، متغیرها مانند ظرف‌هایی هستند که داده‌ها را در خود ذخیره می‌کنند. این داده‌ها می‌توانند از انواع مختلفی باشند، مانند اعداد، متن، لیست‌ها و غیره.\n",
        "\n",
        "نحوه تعریف متغیر:\n",
        "\n",
        "برای تعریف یک متغیر در پایتون، کافی است نام متغیر را بنویسید و سپس مقدار آن را با استفاده از علامت = به آن اختصاص دهید.\n",
        "\n",
        "انواع داده در پایتون:\n",
        "\n",
        "پایتون به صورت خودکار نوع داده متغیر را تشخیص می‌دهد. برخی از انواع داده رایج در پایتون عبارتند از:\n",
        "\n",
        "int: اعداد صحیح (مانند 10، -5، 0)\n",
        "float: اعداد اعشاری (مانند 3.14، -2.5، 0.0)\n",
        "str: رشته‌ها (مانند \"Hello\"، \"Python\"، \"123\")\n",
        "bool: مقادیر منطقی (True یا False)\n",
        "\n",
        "قوانین نامگذاری متغیرها:\n",
        "\n",
        "نام متغیر باید با یک حرف یا underscore (_) شروع شود.\n",
        "نام متغیر می‌تواند شامل حروف، اعداد و underscore باشد.\n",
        "نام متغیر به حروف بزرگ و کوچک حساس است (case-sensitive).\n",
        "از کلمات کلیدی پایتون (مانند if، else، for و غیره) نمی‌توان به عنوان نام متغیر استفاده کرد.\n",
        "نکات مهم:\n",
        "\n",
        "پایتون یک زبان پویا است، به این معنی که نوع متغیر می‌تواند در طول اجرای برنامه تغییر کند.\n",
        "برای بررسی نوع یک متغیر، می‌توانید از تابع type() استفاده کنید."
      ]
    },
    {
      "cell_type": "code",
      "execution_count": null,
      "id": "6b0a1cb7",
      "metadata": {
        "id": "6b0a1cb7"
      },
      "outputs": [],
      "source": [
        "#12a=12==> na dorost ==> nabyad avalesh adad bashad\n",
        "#ali amir=24===> fasele nabayad beine esme moteghair ha bashad\n",
        "#amir_rezaiy=28==> dorost ==> underline moshkeli nadard\n",
        "#str==>> esm haye az ghabl tarif shode ra dar python gharar nadahid"
      ]
    },
    {
      "cell_type": "markdown",
      "id": "aa29042d-76ad-4874-ab3e-e430001adb28",
      "metadata": {
        "id": "aa29042d-76ad-4874-ab3e-e430001adb28"
      },
      "source": [
        "عملگرهای حسابی در پایتون\n",
        "در پایتون، عملگرهای حسابی برای انجام عملیات ریاضی روی اعداد استفاده می‌شوند. این عملگرها شامل موارد زیر هستند:\n",
        "\n",
        "+ (جمع): برای جمع دو عدد استفاده می‌شود. به عنوان مثال، x + y حاصل جمع x و y را برمی‌گرداند.\n",
        "- (تفریق): برای تفریق دو عدد استفاده می‌شود. به عنوان مثال، x - y حاصل تفریق y از x را برمی‌گرداند.\n",
        "* (ضرب): برای ضرب دو عدد استفاده می‌شود. به عنوان مثال، x * y حاصل ضرب x و y را برمی‌گرداند.\n",
        "/ (تقسیم): برای تقسیم دو عدد استفاده می‌شود. به عنوان مثال، x / y خارج قسمت x بر y را برمی‌گرداند.\n",
        "// (تقسیم صحیح): برای تقسیم دو عدد و گرفتن فقط بخش صحیح خارج قسمت استفاده می‌شود. به عنوان مثال، x // y خارج قسمت صحیح x بر y را برمی‌گرداند.\n",
        "% (باقیمانده): برای گرفتن باقیمانده تقسیم دو عدد استفاده می‌شود. به عنوان مثال، x % y باقیمانده تقسیم x بر y را برمی‌گرداند.\n",
        "** (توان): برای محاسبه توان یک عدد استفاده می‌شود. به عنوان مثال، x ** y مقدار x به توان y را برمی‌گرداند."
      ]
    },
    {
      "cell_type": "code",
      "execution_count": null,
      "id": "96f91186-624c-4192-8370-e309eb5fc128",
      "metadata": {
        "id": "96f91186-624c-4192-8370-e309eb5fc128",
        "outputId": "a0f3cfd6-5858-4083-efe6-3e09f4028334"
      },
      "outputs": [
        {
          "name": "stdout",
          "output_type": "stream",
          "text": [
            "30\n",
            "10\n",
            "2.0\n",
            "0\n",
            "200\n",
            "10240000000000\n"
          ]
        }
      ],
      "source": [
        "a=10\n",
        "b=20\n",
        "print(a+b)\n",
        "print(b-a)\n",
        "print(b/a)\n",
        "print(b%a)\n",
        "print(b*a)\n",
        "print(b**a)"
      ]
    },
    {
      "cell_type": "code",
      "execution_count": null,
      "id": "64610aa5",
      "metadata": {
        "id": "64610aa5",
        "outputId": "f49e16ad-bf41-4abe-cae8-66a509c402bd"
      },
      "outputs": [
        {
          "name": "stdout",
          "output_type": "stream",
          "text": [
            "ali amir\n",
            "ali\n",
            "amir\n"
          ]
        }
      ],
      "source": [
        "name1=\"ali\"\n",
        "name2=\"amir\"\n",
        "print(name1,name2)\n",
        "print(name1)\n",
        "print(name2)"
      ]
    },
    {
      "cell_type": "code",
      "execution_count": null,
      "id": "28714105",
      "metadata": {
        "scrolled": true,
        "id": "28714105",
        "outputId": "34e30be2-0a99-4e6f-b4bd-3d886477b22f"
      },
      "outputs": [
        {
          "name": "stdout",
          "output_type": "stream",
          "text": [
            "<class 'str'>\n",
            "<class 'int'>\n",
            "<class 'float'>\n"
          ]
        }
      ],
      "source": [
        "#type ==> neshan dadane noe moteghair\n",
        "name1=\"alireza\"\n",
        "number1=20\n",
        "number2=20.5\n",
        "print(type(name1))\n",
        "print(type(number1))\n",
        "print(type(number2))"
      ]
    },
    {
      "cell_type": "markdown",
      "id": "7360d711",
      "metadata": {
        "id": "7360d711"
      },
      "source": [
        "# moghayese"
      ]
    },
    {
      "cell_type": "markdown",
      "id": "043809ab-4103-4d77-8a40-155b2dfa40c0",
      "metadata": {
        "id": "043809ab-4103-4d77-8a40-155b2dfa40c0"
      },
      "source": [
        "عملگرهای مقایسه‌ای در پایتون برای مقایسه دو مقدار و تعیین رابطه بین آنها استفاده می‌شوند. نتیجه این مقایسه می‌تواند درست (True) یا نادرست (False) باشد. در زیر به برخی از این عملگرها اشاره می‌کنیم:\n",
        "\n",
        "*   **==** (مساوی): این عملگر بررسی می‌کند که آیا دو مقدار برابر هستند یا خیر. برای مثال، `x == y` بررسی می‌کند که آیا x و y برابرند.\n",
        "*   **!=** (نامساوی): این عملگر بررسی می‌کند که آیا دو مقدار نامساوی هستند یا خیر. برای مثال، `x != y` بررسی می‌کند که آیا x و y نامساوی‌اند.\n",
        "*   **>** (بزرگتر از): این عملگر بررسی می‌کند که آیا مقدار سمت چپ بزرگتر از مقدار سمت راست است یا خیر. برای مثال، `x > y` بررسی می‌کند که آیا x بزرگتر از y است.\n",
        "*   **<** (کوچکتر از): این عملگر بررسی می‌کند که آیا مقدار سمت چپ کوچکتر از مقدار سمت راست است یا خیر. برای مثال، `x < y` بررسی می‌کند که آیا x کوچکتر از y است.\n",
        "*   **>=** (بزرگتر یا مساوی): این عملگر بررسی می‌کند که آیا مقدار سمت چپ بزرگتر یا مساوی مقدار سمت راست است یا خیر. برای مثال، `x >= y` بررسی می‌کند که آیا x بزرگتر یا مساوی y است.\n",
        "*   **<=** (کوچکتر یا مساوی): این عملگر بررسی می‌کند که آیا مقدار سمت چپ کوچکتر یا مساوی مقدار سمت راست است یا خیر. برای مثال، `x <= y` بررسی می‌کند که آیا x کوچکتر یا مساوی y است.\n",
        "\n",
        "درک و استفاده صحیح از عملگرهای مقایسه‌ای در پایتون برای نوشتن برنامه‌های منطقی و کارآمد بسیار مهم است.\n"
      ]
    },
    {
      "cell_type": "code",
      "execution_count": null,
      "id": "615f49ca",
      "metadata": {
        "id": "615f49ca",
        "outputId": "fbe8f139-29d0-4125-dc51-e3645377a120"
      },
      "outputs": [
        {
          "name": "stdout",
          "output_type": "stream",
          "text": [
            "8\n"
          ]
        }
      ],
      "source": [
        "a=8\n",
        "b=10\n",
        "print(a)"
      ]
    },
    {
      "cell_type": "code",
      "execution_count": null,
      "id": "b5519732",
      "metadata": {
        "id": "b5519732",
        "outputId": "e369d924-2ce6-47fc-c7e6-fa8438d49f82"
      },
      "outputs": [
        {
          "data": {
            "text/plain": [
              "False"
            ]
          },
          "execution_count": 12,
          "metadata": {},
          "output_type": "execute_result"
        }
      ],
      "source": [
        "a>b"
      ]
    },
    {
      "cell_type": "code",
      "execution_count": null,
      "id": "0bc04640",
      "metadata": {
        "id": "0bc04640",
        "outputId": "3dae796b-2728-486d-bfcf-86aaf8e54d6d"
      },
      "outputs": [
        {
          "data": {
            "text/plain": [
              "True"
            ]
          },
          "execution_count": 13,
          "metadata": {},
          "output_type": "execute_result"
        }
      ],
      "source": [
        "a<b"
      ]
    },
    {
      "cell_type": "code",
      "execution_count": null,
      "id": "9acf87ae",
      "metadata": {
        "id": "9acf87ae",
        "outputId": "2bcb03c8-3e63-4f1a-ecd9-5642fedeb40d"
      },
      "outputs": [
        {
          "data": {
            "text/plain": [
              "False"
            ]
          },
          "execution_count": 14,
          "metadata": {},
          "output_type": "execute_result"
        }
      ],
      "source": [
        "num1=12\n",
        "num2=12\n",
        "num1>num2"
      ]
    },
    {
      "cell_type": "code",
      "execution_count": null,
      "id": "ab4a1da4",
      "metadata": {
        "id": "ab4a1da4",
        "outputId": "d193dc6d-c19a-48e3-c2d9-f3b6a73451c8"
      },
      "outputs": [
        {
          "data": {
            "text/plain": [
              "False"
            ]
          },
          "execution_count": 15,
          "metadata": {},
          "output_type": "execute_result"
        }
      ],
      "source": [
        "num1<num2"
      ]
    },
    {
      "cell_type": "code",
      "execution_count": null,
      "id": "b2178ddc",
      "metadata": {
        "id": "b2178ddc",
        "outputId": "36c3a15a-db8b-4299-b804-df50a5924ef6"
      },
      "outputs": [
        {
          "data": {
            "text/plain": [
              "True"
            ]
          },
          "execution_count": 16,
          "metadata": {},
          "output_type": "execute_result"
        }
      ],
      "source": [
        "num1==num2"
      ]
    },
    {
      "cell_type": "code",
      "execution_count": null,
      "id": "a35c0244",
      "metadata": {
        "id": "a35c0244",
        "outputId": "f82a9560-5573-47f0-c4ce-b1487ad8e4bb"
      },
      "outputs": [
        {
          "data": {
            "text/plain": [
              "True"
            ]
          },
          "execution_count": 17,
          "metadata": {},
          "output_type": "execute_result"
        }
      ],
      "source": [
        "num1>=num2"
      ]
    },
    {
      "cell_type": "code",
      "execution_count": null,
      "id": "9bc87cb8",
      "metadata": {
        "id": "9bc87cb8",
        "outputId": "40e76a3e-a430-4b78-f819-0d770ab6999a"
      },
      "outputs": [
        {
          "data": {
            "text/plain": [
              "False"
            ]
          },
          "execution_count": 18,
          "metadata": {},
          "output_type": "execute_result"
        }
      ],
      "source": [
        "num1!=num2"
      ]
    },
    {
      "cell_type": "markdown",
      "id": "9829c5a0",
      "metadata": {
        "id": "9829c5a0"
      },
      "source": [
        "# shart ya condition"
      ]
    },
    {
      "cell_type": "markdown",
      "id": "a5b52e33-2d47-4207-a441-5a49a06f0156",
      "metadata": {
        "id": "a5b52e33-2d47-4207-a441-5a49a06f0156"
      },
      "source": [
        "در پایتون، دستورات شرطی یا همان عبارات شرطی برای کنترل جریان اجرای برنامه بر اساس شرایط مختلف استفاده می‌شوند. به طور کلی، دستورات شرطی به برنامه اجازه می‌دهند که تصمیم بگیرد کدام بخش از کد اجرا شود و کدام بخش اجرا نشود.\n",
        "\n",
        "دستور if\n",
        "ساده‌ترین نوع دستور شرطی، دستور if است. این دستور یک شرط را بررسی می‌کند و اگر شرط درست باشد، بلوک کد مربوط به آن اجرا می‌شود.\n",
        "\n",
        "\n",
        "دستور if-else\n",
        "دستور if-else علاوه بر بررسی یک شرط، در صورتی که شرط نادرست باشد، بلوک کد مربوط به else را اجرا می‌کند.\n",
        "\n",
        "\n",
        "دستور if-elif-else\n",
        "در مواردی که چندین شرط وجود دارد، می‌توان از دستور if-elif-else استفاده کرد. این دستور به ترتیب شرایط را بررسی می‌کند و بلوک کد مربوط به اولین شرط درست را اجرا می‌کند.\n",
        "\n"
      ]
    },
    {
      "cell_type": "code",
      "execution_count": null,
      "id": "1be6bc03",
      "metadata": {
        "id": "1be6bc03",
        "outputId": "184830e3-c414-486d-9814-7b06a0b55642"
      },
      "outputs": [
        {
          "name": "stdout",
          "output_type": "stream",
          "text": [
            "number1 is lower than number2\n"
          ]
        }
      ],
      "source": [
        "number1=20\n",
        "number2=30\n",
        "if number1>number2:\n",
        "    print(\"number1 is higher than number2\")\n",
        "elif number1==number2:\n",
        "    print(\"number1 is equal to number 2\")\n",
        "else:\n",
        "    print(\"number1 is lower than number2\")"
      ]
    },
    {
      "cell_type": "markdown",
      "id": "34e64e72",
      "metadata": {
        "id": "34e64e72"
      },
      "source": [
        "# input"
      ]
    },
    {
      "cell_type": "markdown",
      "id": "ab491486-2efd-4284-9924-58852c0e553c",
      "metadata": {
        "id": "ab491486-2efd-4284-9924-58852c0e553c"
      },
      "source": [
        "در پایتون، تابع input() برای گرفتن ورودی از کاربر استفاده می‌شود. این تابع یک رشته را به عنوان ورودی از کاربر می‌گیرد و آن را به عنوان خروجی برمی‌گرداند"
      ]
    },
    {
      "cell_type": "code",
      "execution_count": null,
      "id": "39909b0f",
      "metadata": {
        "id": "39909b0f",
        "outputId": "bcfc2653-3b2f-4c6b-9cc9-50fa67256133"
      },
      "outputs": [
        {
          "name": "stdout",
          "output_type": "stream",
          "text": [
            "Please enter the number of days that you want to know:5\n",
            "today is wednesday\n",
            "<class 'int'>\n"
          ]
        }
      ],
      "source": [
        "number1=int(input(\"Please enter the number of days that you want to know:\"))\n",
        "if number1==1:\n",
        "    print(\"today is saturday\")\n",
        "elif number1==2:\n",
        "    print(\"today is sunday\")\n",
        "elif number1==3:\n",
        "    print(\"today is monday\")\n",
        "elif number1==4:\n",
        "    print(\"today is tuesday\")\n",
        "elif number1==5:\n",
        "    print(\"today is wednesday\")\n",
        "elif number1==6:\n",
        "    print(\"today is thursday\")\n",
        "elif number1==7:\n",
        "    print(\"today is friday\")\n",
        "else:\n",
        "    print(\"Your number is wrong\")\n",
        "\n",
        "print(type(number1))"
      ]
    },
    {
      "cell_type": "code",
      "execution_count": null,
      "id": "ac27cd9b",
      "metadata": {
        "id": "ac27cd9b",
        "outputId": "7e40a466-0efa-4bdc-fd9f-4f35c1ef78ef"
      },
      "outputs": [
        {
          "name": "stdout",
          "output_type": "stream",
          "text": [
            "Please enter your name:ali\n",
            "Your name is true\n",
            "<class 'str'>\n"
          ]
        }
      ],
      "source": [
        "name=input(\"Please enter your name:\")\n",
        "if name==\"ali\":\n",
        "    print(\"Your name is true\")\n",
        "else:\n",
        "    print(\"your name is false\")\n",
        "print(type(name))"
      ]
    },
    {
      "cell_type": "code",
      "execution_count": null,
      "id": "c2ef8ab4",
      "metadata": {
        "id": "c2ef8ab4",
        "outputId": "15fe6aad-be04-4b7a-cbf6-4498e6c52726"
      },
      "outputs": [
        {
          "name": "stdout",
          "output_type": "stream",
          "text": [
            "Please enter the number:29\n",
            "29.0 is lower than 50\n"
          ]
        }
      ],
      "source": [
        "number=float(input(\"Please enter the number:\"))\n",
        "if number>=50:\n",
        "    print(f\" {number} is higher than 50 or equal to 50\")\n",
        "else:\n",
        "    print(f\"{number} is lower than 50\")"
      ]
    },
    {
      "cell_type": "markdown",
      "id": "ae0d344a",
      "metadata": {
        "id": "ae0d344a"
      },
      "source": [
        "# حلقه==> loop\n",
        "در برنامه‌نویسی، حلقه (Loop) به مجموعه‌ای از دستورات گفته می‌شود که به صورت مکرر اجرا می‌شوند. حلقه‌ها ابزاری قدرتمند برای خودکار کردن کارهای تکراری و جلوگیری از نوشتن کد مشابه در بخش‌های مختلف برنامه هستند.\n",
        "\n",
        "چرا از حلقه‌ها استفاده می‌کنیم؟\n",
        "صرفه‌جویی در کد: با استفاده از حلقه‌ها می‌توانیم کدی را که قرار است چندین بار اجرا شود، فقط یک بار بنویسیم. این کار باعث کاهش حجم کد و افزایش خوانایی آن می‌شود.\n",
        "خودکار کردن کارهای تکراری: حلقه‌ها برای انجام کارهای تکراری مانند پردازش داده‌ها، جستجو در لیست‌ها و غیره بسیار مناسب هستند.\n",
        "انعطاف‌پذیری: حلقه‌ها می‌توانند بر اساس شرایط مختلف، تعداد دفعات اجرای خود را تغییر دهند.\n",
        "انواع حلقه‌ها\n",
        "در پایتون دو نوع حلقه اصلی وجود دارد:\n",
        "\n",
        "حلقه for: این حلقه برای تکرار یک بلوک کد به تعداد مشخصی از دفعات یا برای پیمایش اعضای یک دنباله (مانند لیست یا رشته) استفاده می‌شود.\n",
        "\n",
        "حلقه while: این حلقه تا زمانی که یک شرط خاص برقرار باشد، بلوک کد مربوط به خود را اجرا می‌کند."
      ]
    },
    {
      "cell_type": "markdown",
      "id": "1234e2d9",
      "metadata": {
        "id": "1234e2d9"
      },
      "source": [
        "### for"
      ]
    },
    {
      "cell_type": "code",
      "execution_count": null,
      "id": "e582fb82",
      "metadata": {
        "id": "e582fb82",
        "outputId": "bda949aa-2631-4e7a-c2bb-960b7d1e125d"
      },
      "outputs": [
        {
          "name": "stdout",
          "output_type": "stream",
          "text": [
            "1\n",
            "2\n",
            "3\n",
            "4\n",
            "5\n",
            "6\n",
            "7\n",
            "8\n",
            "9\n",
            "10\n",
            "11\n",
            "12\n",
            "13\n",
            "14\n",
            "15\n",
            "16\n",
            "17\n",
            "18\n",
            "19\n",
            "20\n"
          ]
        }
      ],
      "source": [
        "for i in range(1,21): # (ebteda, enteha+1)\n",
        "    print(i)"
      ]
    },
    {
      "cell_type": "code",
      "execution_count": null,
      "id": "4efcc421",
      "metadata": {
        "id": "4efcc421",
        "outputId": "76575497-a1c8-4078-8d0f-438fc724e640"
      },
      "outputs": [
        {
          "name": "stdout",
          "output_type": "stream",
          "text": [
            "2\n",
            "4\n",
            "6\n",
            "8\n",
            "10\n",
            "12\n",
            "14\n",
            "16\n",
            "18\n",
            "20\n",
            "22\n",
            "24\n",
            "26\n",
            "28\n",
            "30\n"
          ]
        }
      ],
      "source": [
        "for i in range(1,31):\n",
        "    if i%2==0:\n",
        "        print(i)"
      ]
    },
    {
      "cell_type": "code",
      "execution_count": null,
      "id": "e337bcab",
      "metadata": {
        "id": "e337bcab",
        "outputId": "038543ff-9d39-4e13-f7d0-dc8c3c1a1d4a"
      },
      "outputs": [
        {
          "name": "stdout",
          "output_type": "stream",
          "text": [
            "1\n",
            "3\n",
            "5\n",
            "7\n",
            "9\n",
            "11\n",
            "13\n",
            "15\n",
            "17\n",
            "19\n",
            "21\n",
            "23\n",
            "25\n",
            "27\n",
            "29\n",
            "31\n"
          ]
        }
      ],
      "source": [
        "for i in range(1,32,2):# (edbteda,enteha+1, step)\n",
        "    print(i)"
      ]
    },
    {
      "cell_type": "code",
      "execution_count": null,
      "id": "5d95962c",
      "metadata": {
        "id": "5d95962c",
        "outputId": "9bda0dd0-08d3-469e-9359-65d75f9de18c"
      },
      "outputs": [
        {
          "name": "stdout",
          "output_type": "stream",
          "text": [
            "Please enter the number that you want to factoreil:6\n",
            "720\n"
          ]
        }
      ],
      "source": [
        "number=int(input(\"Please enter the number that you want to factoreil:\"))\n",
        "fact=1\n",
        "for i in range(1,number+1):\n",
        "    fact=fact*i\n",
        "print(fact)"
      ]
    },
    {
      "cell_type": "markdown",
      "id": "68814713",
      "metadata": {
        "id": "68814713"
      },
      "source": [
        "# while"
      ]
    },
    {
      "cell_type": "code",
      "execution_count": null,
      "id": "74ffc4a3",
      "metadata": {
        "id": "74ffc4a3",
        "outputId": "73d7a5e5-ad46-4bbc-93d1-3ebb13b14af5"
      },
      "outputs": [
        {
          "name": "stdout",
          "output_type": "stream",
          "text": [
            "1\n",
            "2\n",
            "3\n",
            "4\n",
            "5\n",
            "6\n",
            "7\n",
            "8\n",
            "9\n",
            "10\n",
            "11\n",
            "12\n",
            "13\n",
            "14\n",
            "15\n",
            "16\n",
            "17\n",
            "18\n",
            "19\n"
          ]
        }
      ],
      "source": [
        "i=1\n",
        "while i<20:\n",
        "    print(i)\n",
        "    i=i+1"
      ]
    },
    {
      "cell_type": "code",
      "execution_count": null,
      "id": "9afb6c04",
      "metadata": {
        "id": "9afb6c04",
        "outputId": "c80446ec-9ab3-4502-906b-ea64e8814e8e"
      },
      "outputs": [
        {
          "name": "stdout",
          "output_type": "stream",
          "text": [
            "Please enter number of inputs:20\n",
            "20\n",
            "Please enter number of inputs:10\n",
            "10\n",
            "Please enter number of inputs:40\n",
            "40\n"
          ]
        }
      ],
      "source": [
        "i=0\n",
        "while i<3:\n",
        "    number=int(input(\"Please enter number of inputs:\"))\n",
        "    print(number)\n",
        "    i=i+1"
      ]
    },
    {
      "cell_type": "code",
      "execution_count": null,
      "id": "f5d73747",
      "metadata": {
        "id": "f5d73747",
        "outputId": "ca95ff15-cba6-48f4-f7ce-3bfdef2f82dc"
      },
      "outputs": [
        {
          "name": "stdout",
          "output_type": "stream",
          "text": [
            "Please enter the number:5\n",
            "120\n"
          ]
        }
      ],
      "source": [
        "i=1\n",
        "fact=1\n",
        "number=int(input(\"Please enter the number:\"))\n",
        "while(i<number+1):\n",
        "    fact=fact*i\n",
        "    i=i+1\n",
        "print(fact)"
      ]
    },
    {
      "cell_type": "markdown",
      "id": "242a9693",
      "metadata": {
        "id": "242a9693"
      },
      "source": [
        "# break==> زمانی که نیاز داریم از حلقه خارج میشود"
      ]
    },
    {
      "cell_type": "code",
      "execution_count": null,
      "id": "9d7bdd66",
      "metadata": {
        "id": "9d7bdd66",
        "outputId": "35f72d07-da8e-4a61-8d5a-81ceb6bc4739"
      },
      "outputs": [
        {
          "name": "stdout",
          "output_type": "stream",
          "text": [
            "7\n"
          ]
        }
      ],
      "source": [
        "for i in range(1,30):\n",
        "    if i%7==0:\n",
        "        print(i)\n",
        "        break"
      ]
    },
    {
      "cell_type": "markdown",
      "id": "4fa93a30",
      "metadata": {
        "id": "4fa93a30"
      },
      "source": [
        "# continue==> ادامه ندادن حلقه و شروع آن از اول\n"
      ]
    },
    {
      "cell_type": "code",
      "execution_count": null,
      "id": "5abb8d2f",
      "metadata": {
        "id": "5abb8d2f",
        "outputId": "fe6751c1-28b8-4da9-f50e-e36c431b5348"
      },
      "outputs": [
        {
          "name": "stdout",
          "output_type": "stream",
          "text": [
            "7\n",
            "14\n",
            "21\n",
            "28\n"
          ]
        }
      ],
      "source": [
        "for i in range(1,30):\n",
        "    if i%7==0:\n",
        "        print(i)\n",
        "        continue"
      ]
    },
    {
      "cell_type": "markdown",
      "id": "80f396ec",
      "metadata": {
        "id": "80f396ec"
      },
      "source": [
        "#  and===> همه شرط ها باید برقرار باشند"
      ]
    },
    {
      "cell_type": "code",
      "execution_count": null,
      "id": "641eeaae",
      "metadata": {
        "id": "641eeaae",
        "outputId": "fe4a2af5-ef27-4f11-99e7-38f674afec7a"
      },
      "outputs": [
        {
          "name": "stdout",
          "output_type": "stream",
          "text": [
            "False\n"
          ]
        }
      ],
      "source": [
        "a=16\n",
        "if a>10 and a<15:\n",
        "    print(\"true\")\n",
        "else:\n",
        "    print(\"False\")"
      ]
    },
    {
      "cell_type": "markdown",
      "id": "6ad0fff5",
      "metadata": {
        "id": "6ad0fff5"
      },
      "source": [
        "# or ==> کافی است یکی از شرط ها درست باشد"
      ]
    },
    {
      "cell_type": "code",
      "execution_count": null,
      "id": "f83dcb2c",
      "metadata": {
        "id": "f83dcb2c",
        "outputId": "2556b9e8-7d70-4c8d-fa7e-63e352c879e0"
      },
      "outputs": [
        {
          "name": "stdout",
          "output_type": "stream",
          "text": [
            "true\n"
          ]
        }
      ],
      "source": [
        "a=16\n",
        "if a>10 or a<15:\n",
        "    print(\"true\")\n",
        "else:\n",
        "    print(\"False\")"
      ]
    },
    {
      "cell_type": "code",
      "execution_count": null,
      "id": "013324f8",
      "metadata": {
        "id": "013324f8",
        "outputId": "aa9edc3b-0c52-483c-d5b5-00da2831a3d6"
      },
      "outputs": [
        {
          "name": "stdout",
          "output_type": "stream",
          "text": [
            "1\n",
            "2\n",
            "3\n",
            "4\n",
            "5\n",
            "6\n",
            "7\n",
            "8\n",
            "9\n",
            "10\n",
            "11\n",
            "12\n",
            "16\n",
            "17\n",
            "18\n",
            "19\n",
            "20\n"
          ]
        }
      ],
      "source": [
        "for i in range(1,21):\n",
        "\n",
        "    if i>12 and i<16:\n",
        "        continue\n",
        "    print(i)"
      ]
    },
    {
      "cell_type": "code",
      "execution_count": null,
      "id": "6913500f",
      "metadata": {
        "id": "6913500f",
        "outputId": "f39d458d-4400-4ddb-961b-3b5346f37b86"
      },
      "outputs": [
        {
          "name": "stdout",
          "output_type": "stream",
          "text": [
            "1\n",
            "2\n",
            "3\n",
            "4\n",
            "5\n",
            "6\n",
            "7\n",
            "8\n",
            "9\n",
            "10\n",
            "11\n",
            "12\n"
          ]
        }
      ],
      "source": [
        "for i in range(1,21):\n",
        "\n",
        "    if i>12 and i<16:\n",
        "        break\n",
        "    print(i)"
      ]
    },
    {
      "cell_type": "code",
      "execution_count": null,
      "id": "c6e0fa27-947e-4bb3-ad17-1e6c08f15814",
      "metadata": {
        "id": "c6e0fa27-947e-4bb3-ad17-1e6c08f15814",
        "outputId": "f83eb1e8-01e7-4ec4-fac4-58f222304687"
      },
      "outputs": [
        {
          "data": {
            "text/plain": [
              "12"
            ]
          },
          "execution_count": 5,
          "metadata": {},
          "output_type": "execute_result"
        }
      ],
      "source": [
        "j[1]"
      ]
    },
    {
      "cell_type": "code",
      "execution_count": null,
      "id": "da9fa0eb-4a7f-49e1-8403-84818756c099",
      "metadata": {
        "id": "da9fa0eb-4a7f-49e1-8403-84818756c099",
        "outputId": "480688e4-02cd-41f4-b200-e2f86c12cf5d"
      },
      "outputs": [
        {
          "data": {
            "text/plain": [
              "'a'"
            ]
          },
          "execution_count": 6,
          "metadata": {},
          "output_type": "execute_result"
        }
      ],
      "source": [
        "j[0]"
      ]
    },
    {
      "cell_type": "code",
      "execution_count": null,
      "id": "610d5d6c-1bd3-4e3a-bbab-7a04c4df26be",
      "metadata": {
        "id": "610d5d6c-1bd3-4e3a-bbab-7a04c4df26be",
        "outputId": "5417aa15-a7c0-420e-905c-5d87f52503a5"
      },
      "outputs": [
        {
          "data": {
            "text/plain": [
              "9.75"
            ]
          },
          "execution_count": 7,
          "metadata": {},
          "output_type": "execute_result"
        }
      ],
      "source": [
        "j[-1]"
      ]
    },
    {
      "cell_type": "code",
      "execution_count": null,
      "id": "27f7837b-b24b-4699-8b42-69adba33de4c",
      "metadata": {
        "id": "27f7837b-b24b-4699-8b42-69adba33de4c"
      },
      "outputs": [],
      "source": []
    }
  ],
  "metadata": {
    "kernelspec": {
      "display_name": "Python 3 (ipykernel)",
      "language": "python",
      "name": "python3"
    },
    "language_info": {
      "codemirror_mode": {
        "name": "ipython",
        "version": 3
      },
      "file_extension": ".py",
      "mimetype": "text/x-python",
      "name": "python",
      "nbconvert_exporter": "python",
      "pygments_lexer": "ipython3",
      "version": "3.11.7"
    },
    "colab": {
      "provenance": [],
      "include_colab_link": true
    }
  },
  "nbformat": 4,
  "nbformat_minor": 5
}