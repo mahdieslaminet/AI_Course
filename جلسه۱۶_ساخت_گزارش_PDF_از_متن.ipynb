{
 "cells": [
  {
   "cell_type": "markdown",
   "id": "6ed2541e",
   "metadata": {},
   "source": [
    "# جلسه ۱۶: ساخت گزارش PDF از فایل‌های پردازش‌شده"
   ]
  },
  {
   "cell_type": "markdown",
   "id": "e54374e9",
   "metadata": {},
   "source": [
    "\n",
    "🎯 **هدف:**  \n",
    "در این جلسه یاد می‌گیریم چطور از محتوای متنی که پردازش کردیم (مثل خلاصه، ترجمه، یا اطلاعات جدول) یک فایل PDF بسازیم.\n",
    "\n",
    "🛠️ **سرفصل‌ها:**  \n",
    "1. دریافت یا تولید متن نهایی  \n",
    "2. آماده‌سازی قالب گزارش  \n",
    "3. تولید فایل PDF و دانلود آن\n"
   ]
  },
  {
   "cell_type": "markdown",
   "id": "3fb33104",
   "metadata": {},
   "source": [
    "## 1. نصب کتابخانه ساخت PDF"
   ]
  },
  {
   "cell_type": "code",
   "execution_count": null,
   "id": "699a8003",
   "metadata": {},
   "outputs": [],
   "source": [
    "!pip install fpdf"
   ]
  },
  {
   "cell_type": "markdown",
   "id": "8c81ca9a",
   "metadata": {},
   "source": [
    "## 2. وارد کردن متن برای تبدیل به PDF"
   ]
  },
  {
   "cell_type": "code",
   "execution_count": null,
   "id": "e1aa380b",
   "metadata": {},
   "outputs": [],
   "source": [
    "from fpdf import FPDF\n",
    "\n",
    "text = input(\"📝 متن گزارش نهایی را وارد کنید (یا پیست کنید):\\n\")"
   ]
  },
  {
   "cell_type": "markdown",
   "id": "a1bfe9fd",
   "metadata": {},
   "source": [
    "## 3. ساخت فایل PDF"
   ]
  },
  {
   "cell_type": "code",
   "execution_count": null,
   "id": "7eabc4c7",
   "metadata": {},
   "outputs": [],
   "source": [
    "pdf = FPDF()\n",
    "pdf.add_page()\n",
    "pdf.set_font(\"Arial\", size=12)\n",
    "\n",
    "for line in text.split(\"\\n\"):\n",
    "    pdf.multi_cell(0, 10, line)\n",
    "\n",
    "pdf_file_name = \"گزارش_نهایی.pdf\"\n",
    "pdf.output(pdf_file_name)\n",
    "print(f\"✅ فایل PDF ساخته شد: {pdf_file_name}\")"
   ]
  }
 ],
 "metadata": {},
 "nbformat": 4,
 "nbformat_minor": 5
}
