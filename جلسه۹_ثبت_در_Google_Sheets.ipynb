{
 "cells": [
  {
   "cell_type": "markdown",
   "id": "50271862",
   "metadata": {},
   "source": [
    "# جلسه ۹: ثبت و بازیابی اطلاعات آنلاین با Google Sheets"
   ]
  },
  {
   "cell_type": "markdown",
   "id": "529a183b",
   "metadata": {},
   "source": [
    "\n",
    "🎯 **هدف:**  \n",
    "در این جلسه یاد می‌گیریم چگونه Google Colab را به Google Sheets متصل کنیم تا بتوانیم داده‌ها را به‌صورت آنلاین ثبت، ذخیره و بازیابی کنیم.\n",
    "\n",
    "🛠️ **سرفصل‌ها:**  \n",
    "1. اتصال به Google Sheets  \n",
    "2. خواندن اطلاعات از شیت  \n",
    "3. ثبت اطلاعات جدید در شیت  \n",
    "4. مثال عملی: ثبت درخواست مرخصی در فرم آنلاین\n"
   ]
  },
  {
   "cell_type": "markdown",
   "id": "6ff29bc9",
   "metadata": {},
   "source": [
    "## 1. نصب و تنظیم دسترسی به Google Sheets"
   ]
  },
  {
   "cell_type": "code",
   "execution_count": null,
   "id": "0806c35c",
   "metadata": {},
   "outputs": [],
   "source": [
    "!pip install --upgrade gspread gspread_dataframe\n",
    "\n",
    "import gspread\n",
    "from google.colab import auth\n",
    "auth.authenticate_user()\n",
    "\n",
    "from oauth2client.client import GoogleCredentials\n",
    "gc = gspread.authorize(GoogleCredentials.get_application_default())"
   ]
  },
  {
   "cell_type": "markdown",
   "id": "0794ead3",
   "metadata": {},
   "source": [
    "## 2. اتصال به شیت خاص (حتماً لینک را در اختیار داشته باشید و دسترسی بدهید)"
   ]
  },
  {
   "cell_type": "code",
   "execution_count": null,
   "id": "523b32f0",
   "metadata": {},
   "outputs": [],
   "source": [
    "# آدرس شیت نمونه (باید خودتان جایگزین کنید)\n",
    "spreadsheet_url = 'https://docs.google.com/spreadsheets/d/1yourIDhere'\n",
    "\n",
    "worksheet = gc.open_by_url(spreadsheet_url).sheet1\n",
    "data = worksheet.get_all_records()\n",
    "for row in data:\n",
    "    print(row)"
   ]
  },
  {
   "cell_type": "markdown",
   "id": "ce3d5a4b",
   "metadata": {},
   "source": [
    "## 3. ثبت اطلاعات جدید در شیت"
   ]
  },
  {
   "cell_type": "code",
   "execution_count": null,
   "id": "6162d29c",
   "metadata": {},
   "outputs": [],
   "source": [
    "from gspread_dataframe import set_with_dataframe\n",
    "import pandas as pd\n",
    "\n",
    "new_data = pd.DataFrame([{\n",
    "    \"نام\": \"احمدی\",\n",
    "    \"تاریخ\": \"1403/02/10\",\n",
    "    \"نوع درخواست\": \"مرخصی\",\n",
    "    \"توضیحات\": \"مرخصی روزانه\"\n",
    "}])\n",
    "\n",
    "set_with_dataframe(worksheet, new_data, row=len(data)+2, include_column_header=False)\n",
    "print(\"درخواست ثبت شد.\")"
   ]
  },
  {
   "cell_type": "markdown",
   "id": "256891b1",
   "metadata": {},
   "source": [
    "⚠️ لطفاً مطمئن شوید فایل Google Sheets شما **قابلیت اشتراک با هرکسی که لینک دارد** را داشته باشد و اجازه ویرایش بدهید."
   ]
  }
 ],
 "metadata": {},
 "nbformat": 4,
 "nbformat_minor": 5
}
