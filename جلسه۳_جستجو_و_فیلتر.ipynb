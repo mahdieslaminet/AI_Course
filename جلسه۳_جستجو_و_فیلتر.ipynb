{
 "cells": [
  {
   "cell_type": "markdown",
   "id": "c65a3b9c",
   "metadata": {},
   "source": [
    "# جلسه ۳: جستجو و فیلتر در فایل Excel"
   ]
  },
  {
   "cell_type": "markdown",
   "id": "d5f2abb4",
   "metadata": {},
   "source": [
    "در این جلسه یاد می‌گیریم چگونه در فایل Excel جستجو کنیم و اطلاعات خاص را فیلتر نماییم."
   ]
  },
  {
   "cell_type": "markdown",
   "id": "86fdc9bc",
   "metadata": {},
   "source": [
    "## 1. خواندن فایل Excel"
   ]
  },
  {
   "cell_type": "code",
   "execution_count": null,
   "id": "07cde240",
   "metadata": {},
   "outputs": [],
   "source": [
    "import pandas as pd\n",
    "\n",
    "file_path = \"/content/drive/MyDrive/کارمندان.xlsx\"  # مسیر فایل را تنظیم کنید\n",
    "df = pd.read_excel(file_path)\n",
    "df.head()"
   ]
  },
  {
   "cell_type": "markdown",
   "id": "c9a76597",
   "metadata": {},
   "source": [
    "## 2. جستجوی یک نام خاص در فایل"
   ]
  },
  {
   "cell_type": "code",
   "execution_count": null,
   "id": "9b6bd8a4",
   "metadata": {},
   "outputs": [],
   "source": [
    "# جستجو برای پیدا کردن اطلاعات کارمند خاص\n",
    "df[df[\"نام\"] == \"علی رضایی\"]"
   ]
  },
  {
   "cell_type": "markdown",
   "id": "39a176cb",
   "metadata": {},
   "source": [
    "## 3. فیلتر کردن کارمندان با سمت خاص"
   ]
  },
  {
   "cell_type": "code",
   "execution_count": null,
   "id": "bd784b66",
   "metadata": {},
   "outputs": [],
   "source": [
    "# نمایش فقط افرادی که مسئول هستند\n",
    "df[df[\"سمت\"].str.contains(\"مسئول\")]"
   ]
  },
  {
   "cell_type": "markdown",
   "id": "8465f5cb",
   "metadata": {},
   "source": [
    "## 4. فیلتر حقوق‌های بالاتر از یک مقدار"
   ]
  },
  {
   "cell_type": "code",
   "execution_count": null,
   "id": "992476a5",
   "metadata": {},
   "outputs": [],
   "source": [
    "# نمایش کارمندانی که حقوقشان بیشتر از ۱۲ میلیون است\n",
    "df[df[\"حقوق\"] > 12000000]"
   ]
  }
 ],
 "metadata": {},
 "nbformat": 4,
 "nbformat_minor": 5
}
