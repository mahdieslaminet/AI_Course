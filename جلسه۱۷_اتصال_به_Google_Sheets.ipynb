{
 "cells": [
  {
   "cell_type": "markdown",
   "id": "4365c335",
   "metadata": {},
   "source": [
    "# جلسه ۱۷: اتصال و به‌روزرسانی Google Sheets با پایتون"
   ]
  },
  {
   "cell_type": "markdown",
   "id": "216db65c",
   "metadata": {},
   "source": [
    "\n",
    "🎯 **هدف:**  \n",
    "در این جلسه یاد می‌گیریم چگونه با Google Sheets به‌صورت آنلاین و مستقیم کار کنیم، اطلاعات جدید وارد کنیم یا اطلاعات موجود را بخوانیم.\n",
    "\n",
    "🛠️ **سرفصل‌ها:**  \n",
    "1. اتصال به Google Sheets  \n",
    "2. خواندن داده‌ها  \n",
    "3. اضافه کردن یا ویرایش داده‌ها  \n",
    "4. ذخیره تغییرات\n"
   ]
  },
  {
   "cell_type": "markdown",
   "id": "b78d0c57",
   "metadata": {},
   "source": [
    "## 1. نصب کتابخانه‌های مورد نیاز"
   ]
  },
  {
   "cell_type": "code",
   "execution_count": null,
   "id": "aece3d0d",
   "metadata": {},
   "outputs": [],
   "source": [
    "!pip install gspread oauth2client"
   ]
  },
  {
   "cell_type": "markdown",
   "id": "3340c2b8",
   "metadata": {},
   "source": [
    "## 2. تنظیمات دسترسی به Google Sheets"
   ]
  },
  {
   "cell_type": "code",
   "execution_count": null,
   "id": "25fca66d",
   "metadata": {},
   "outputs": [],
   "source": [
    "from google.colab import auth\n",
    "auth.authenticate_user()\n",
    "\n",
    "import gspread\n",
    "from oauth2client.client import GoogleCredentials\n",
    "\n",
    "creds = GoogleCredentials.get_application_default()\n",
    "gc = gspread.authorize(creds)\n",
    "\n",
    "# جایگزین کن با لینک Sheet خودت\n",
    "spreadsheet_url = input(\"🔗 آدرس Google Sheets خود را وارد کنید: \")\n",
    "\n",
    "sh = gc.open_by_url(spreadsheet_url)\n",
    "worksheet = sh.sheet1\n",
    "\n",
    "print(\"✅ اتصال برقرار شد.\")\n",
    "print(\"🔍 نمونه داده‌ها:\")\n",
    "print(worksheet.get_all_values()[:5])"
   ]
  },
  {
   "cell_type": "markdown",
   "id": "2e077c10",
   "metadata": {},
   "source": [
    "## 3. اضافه کردن یک ردیف جدید"
   ]
  },
  {
   "cell_type": "code",
   "execution_count": null,
   "id": "bb4adbc5",
   "metadata": {},
   "outputs": [],
   "source": [
    "new_row = input(\"🆕 اطلاعات جدید (ستون‌ها با کاما جدا شود): \")\n",
    "worksheet.append_row(new_row.split(\",\"))\n",
    "\n",
    "print(\"✅ ردیف جدید اضافه شد.\")"
   ]
  }
 ],
 "metadata": {},
 "nbformat": 4,
 "nbformat_minor": 5
}
