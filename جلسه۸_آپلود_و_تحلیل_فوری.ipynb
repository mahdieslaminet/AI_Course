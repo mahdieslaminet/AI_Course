{
 "cells": [
  {
   "cell_type": "markdown",
   "id": "6318d677",
   "metadata": {},
   "source": [
    "# جلسه ۸: آپلود هوشمند فایل و تحلیل فوری در Colab"
   ]
  },
  {
   "cell_type": "markdown",
   "id": "c7d35a54",
   "metadata": {},
   "source": [
    "\n",
    "🎯 **هدف:**  \n",
    "در این جلسه یاد می‌گیریم چگونه به‌صورت مستقیم یک فایل (مثلاً Excel یا Word) را در Google Colab آپلود کنیم، داده‌های آن را بررسی کنیم و پاسخ یا هشدار هوشمندانه نمایش دهیم.\n",
    "\n",
    "🛠️ **سرفصل‌ها:**  \n",
    "1. آپلود فایل از سیستم کاربر  \n",
    "2. خواندن فایل Excel  \n",
    "3. تحلیل محتوای فایل (مثلاً بررسی وضعیت حقوق یا نمرات)  \n",
    "4. هشدار هوشمند برای موارد خاص\n"
   ]
  },
  {
   "cell_type": "markdown",
   "id": "12fb44a2",
   "metadata": {},
   "source": [
    "## 1. نصب کتابخانه موردنیاز"
   ]
  },
  {
   "cell_type": "code",
   "execution_count": null,
   "id": "1a61d9b9",
   "metadata": {},
   "outputs": [],
   "source": [
    "!pip install pandas openpyxl"
   ]
  },
  {
   "cell_type": "markdown",
   "id": "0b469974",
   "metadata": {},
   "source": [
    "## 2. آپلود فایل از سیستم"
   ]
  },
  {
   "cell_type": "code",
   "execution_count": null,
   "id": "042aade4",
   "metadata": {},
   "outputs": [],
   "source": [
    "from google.colab import files\n",
    "\n",
    "uploaded = files.upload()  # کاربر فایل را انتخاب و آپلود می‌کند"
   ]
  },
  {
   "cell_type": "markdown",
   "id": "e6dd9e84",
   "metadata": {},
   "source": [
    "## 3. خواندن فایل Excel و نمایش داده‌ها"
   ]
  },
  {
   "cell_type": "code",
   "execution_count": null,
   "id": "bcd7e740",
   "metadata": {},
   "outputs": [],
   "source": [
    "import pandas as pd\n",
    "\n",
    "for fn in uploaded.keys():\n",
    "    df = pd.read_excel(fn)\n",
    "    break  # فقط اولین فایل بررسی شود\n",
    "\n",
    "df.head()"
   ]
  },
  {
   "cell_type": "markdown",
   "id": "ec58eb4f",
   "metadata": {},
   "source": [
    "## 4. بررسی موارد خاص (مثلاً حقوق کمتر از ۱۰ میلیون)"
   ]
  },
  {
   "cell_type": "code",
   "execution_count": null,
   "id": "4a942c14",
   "metadata": {},
   "outputs": [],
   "source": [
    "if \"حقوق\" in df.columns:\n",
    "    filtered = df[df[\"حقوق\"] < 10000000]\n",
    "    if not filtered.empty:\n",
    "        print(\"🚨 افراد با حقوق پایین‌تر از ۱۰ میلیون:\")\n",
    "        print(filtered)\n",
    "    else:\n",
    "        print(\"✅ همه افراد حقوق مناسب دارند.\")\n",
    "else:\n",
    "    print(\"ستون 'حقوق' در فایل یافت نشد.\")"
   ]
  },
  {
   "cell_type": "markdown",
   "id": "0640b579",
   "metadata": {},
   "source": [
    "## 5. نمایش نمودار حقوق"
   ]
  },
  {
   "cell_type": "code",
   "execution_count": null,
   "id": "1cee24b4",
   "metadata": {},
   "outputs": [],
   "source": [
    "import matplotlib.pyplot as plt\n",
    "\n",
    "if \"نام\" in df.columns and \"حقوق\" in df.columns:\n",
    "    plt.bar(df[\"نام\"], df[\"حقوق\"])\n",
    "    plt.title(\"نمودار حقوق کارکنان\")\n",
    "    plt.xticks(rotation=45)\n",
    "    plt.ylabel(\"میزان حقوق (تومان)\")\n",
    "    plt.show()\n"
   ]
  }
 ],
 "metadata": {},
 "nbformat": 4,
 "nbformat_minor": 5
}
