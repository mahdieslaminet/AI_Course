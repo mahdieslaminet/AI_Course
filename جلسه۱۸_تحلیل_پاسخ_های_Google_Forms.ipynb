{
 "cells": [
  {
   "cell_type": "markdown",
   "id": "a00c9464",
   "metadata": {},
   "source": [
    "# جلسه ۱۸: تحلیل پاسخ‌های Google Forms با Google Sheets"
   ]
  },
  {
   "cell_type": "markdown",
   "id": "de87c986",
   "metadata": {},
   "source": [
    "\n",
    "🎯 **هدف:**  \n",
    "در این جلسه یاد می‌گیریم چگونه پاسخ‌های یک فرم Google را که به Google Sheets متصل شده، به صورت خودکار بخوانیم و تحلیل کنیم.\n",
    "\n",
    "🛠️ **سرفصل‌ها:**  \n",
    "1. اتصال به پاسخ‌های فرم (Google Sheets)  \n",
    "2. خواندن داده‌ها  \n",
    "3. نمایش آماری یا بصری از نتایج فرم\n"
   ]
  },
  {
   "cell_type": "markdown",
   "id": "9e0beb4e",
   "metadata": {},
   "source": [
    "## 1. نصب کتابخانه‌های لازم"
   ]
  },
  {
   "cell_type": "code",
   "execution_count": null,
   "id": "4f28b797",
   "metadata": {},
   "outputs": [],
   "source": [
    "!pip install gspread oauth2client matplotlib"
   ]
  },
  {
   "cell_type": "markdown",
   "id": "e84f060d",
   "metadata": {},
   "source": [
    "## 2. اتصال به پاسخ‌های فرم"
   ]
  },
  {
   "cell_type": "code",
   "execution_count": null,
   "id": "b9bf9224",
   "metadata": {},
   "outputs": [],
   "source": [
    "from google.colab import auth\n",
    "auth.authenticate_user()\n",
    "\n",
    "import gspread\n",
    "from oauth2client.client import GoogleCredentials\n",
    "\n",
    "creds = GoogleCredentials.get_application_default()\n",
    "gc = gspread.authorize(creds)\n",
    "\n",
    "spreadsheet_url = input(\"🔗 لینک Google Sheets مربوط به فرم را وارد کنید: \")\n",
    "\n",
    "sh = gc.open_by_url(spreadsheet_url)\n",
    "worksheet = sh.sheet1\n",
    "\n",
    "data = worksheet.get_all_records()\n",
    "import pandas as pd\n",
    "df = pd.DataFrame(data)\n",
    "\n",
    "print(\"📄 نمایش ۵ سطر اول داده‌های فرم:\")\n",
    "df.head()"
   ]
  },
  {
   "cell_type": "markdown",
   "id": "d16efcde",
   "metadata": {},
   "source": [
    "## 3. تحلیل آماری اولیه"
   ]
  },
  {
   "cell_type": "code",
   "execution_count": null,
   "id": "c41bac7a",
   "metadata": {},
   "outputs": [],
   "source": [
    "print(\"🎯 خلاصه آماری:\")\n",
    "print(df.describe(include='all'))"
   ]
  },
  {
   "cell_type": "markdown",
   "id": "5d394d2a",
   "metadata": {},
   "source": [
    "## 4. رسم نمودار پاسخ‌های یک سوال"
   ]
  },
  {
   "cell_type": "code",
   "execution_count": null,
   "id": "178f7286",
   "metadata": {},
   "outputs": [],
   "source": [
    "import matplotlib.pyplot as plt\n",
    "\n",
    "column = input(\"📝 نام یکی از سوالات (ستون‌ها) برای نمودار: \")\n",
    "counts = df[column].value_counts()\n",
    "\n",
    "plt.figure(figsize=(8,5))\n",
    "counts.plot(kind='bar', color='skyblue')\n",
    "plt.title(f\"پاسخ‌ها به سوال: {column}\")\n",
    "plt.xlabel(\"گزینه‌ها\")\n",
    "plt.ylabel(\"تعداد\")\n",
    "plt.grid(True, axis='y')\n",
    "plt.show()"
   ]
  }
 ],
 "metadata": {},
 "nbformat": 4,
 "nbformat_minor": 5
}
