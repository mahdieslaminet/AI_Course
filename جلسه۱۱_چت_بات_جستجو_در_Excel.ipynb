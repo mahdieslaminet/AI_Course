{
 "cells": [
  {
   "cell_type": "markdown",
   "id": "23b56b02",
   "metadata": {},
   "source": [
    "# جلسه ۱۱: چت‌بات ساده برای جستجو در فایل Excel"
   ]
  },
  {
   "cell_type": "markdown",
   "id": "5cc91b36",
   "metadata": {},
   "source": [
    "\n",
    "🎯 **هدف:**  \n",
    "در این جلسه یاد می‌گیریم چگونه یک چت‌بات ساده در Google Colab طراحی کنیم که بر اساس ورودی کاربر، اطلاعات خاصی را از فایل Excel استخراج کرده و نمایش دهد.\n",
    "\n",
    "🛠️ **سرفصل‌ها:**  \n",
    "1. آپلود فایل Excel  \n",
    "2. گرفتن ورودی متنی از کاربر  \n",
    "3. جستجوی هوشمند در فایل (مثلاً بر اساس نام شخص)  \n",
    "4. نمایش نتیجه یا پیام مناسب\n"
   ]
  },
  {
   "cell_type": "markdown",
   "id": "8f0c458f",
   "metadata": {},
   "source": [
    "## 1. نصب کتابخانه‌های موردنیاز"
   ]
  },
  {
   "cell_type": "code",
   "execution_count": null,
   "id": "196e153a",
   "metadata": {},
   "outputs": [],
   "source": [
    "!pip install pandas"
   ]
  },
  {
   "cell_type": "markdown",
   "id": "ca3d7a78",
   "metadata": {},
   "source": [
    "## 2. آپلود فایل Excel"
   ]
  },
  {
   "cell_type": "code",
   "execution_count": null,
   "id": "4875cab0",
   "metadata": {},
   "outputs": [],
   "source": [
    "from google.colab import files\n",
    "import pandas as pd\n",
    "\n",
    "uploaded = files.upload()\n",
    "\n",
    "for fn in uploaded:\n",
    "    if fn.endswith(\".xlsx\"):\n",
    "        df = pd.read_excel(fn)\n",
    "        break\n",
    "\n",
    "df.head()"
   ]
  },
  {
   "cell_type": "markdown",
   "id": "a5984876",
   "metadata": {},
   "source": [
    "## 3. چت‌بات ساده برای جستجو بر اساس نام"
   ]
  },
  {
   "cell_type": "code",
   "execution_count": null,
   "id": "6ab19bba",
   "metadata": {},
   "outputs": [],
   "source": [
    "while True:\n",
    "    name = input(\"🔎 نام فرد را وارد کنید (برای خروج 'خروج' بنویسید): \").strip()\n",
    "    if name == \"خروج\":\n",
    "        print(\"👋 پایان چت‌بات\")\n",
    "        break\n",
    "    result = df[df[\"نام\"].str.contains(name, case=False, na=False)]\n",
    "    if not result.empty:\n",
    "        print(\"✅ اطلاعات پیدا شد:\")\n",
    "        display(result)\n",
    "    else:\n",
    "        print(\"❌ اطلاعاتی با این نام یافت نشد.\")"
   ]
  }
 ],
 "metadata": {},
 "nbformat": 4,
 "nbformat_minor": 5
}
