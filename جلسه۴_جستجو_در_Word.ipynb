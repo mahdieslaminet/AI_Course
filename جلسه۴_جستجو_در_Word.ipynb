{
 "cells": [
  {
   "cell_type": "markdown",
   "id": "94fecc38",
   "metadata": {},
   "source": [
    "# جلسه ۴: استخراج و جستجو در فایل Word"
   ]
  },
  {
   "cell_type": "markdown",
   "id": "5e14410e",
   "metadata": {},
   "source": [
    "در این جلسه یاد می‌گیریم چگونه متن فایل Word را استخراج کنیم و به دنبال کلمات یا جملات خاص بگردیم."
   ]
  },
  {
   "cell_type": "markdown",
   "id": "cbb9fa07",
   "metadata": {},
   "source": [
    "## 1. نصب کتابخانه مورد نیاز"
   ]
  },
  {
   "cell_type": "code",
   "execution_count": null,
   "id": "974b6aac",
   "metadata": {},
   "outputs": [],
   "source": [
    "!pip install python-docx"
   ]
  },
  {
   "cell_type": "markdown",
   "id": "a6a39cf3",
   "metadata": {},
   "source": [
    "## 2. خواندن متن فایل Word"
   ]
  },
  {
   "cell_type": "code",
   "execution_count": null,
   "id": "213b3744",
   "metadata": {},
   "outputs": [],
   "source": [
    "from docx import Document\n",
    "\n",
    "file_path = \"/content/drive/MyDrive/نامه_اداری.docx\"  # مسیر فایل را تنظیم کنید\n",
    "\n",
    "doc = Document(file_path)\n",
    "text = \"\\n\".join([para.text for para in doc.paragraphs])\n",
    "print(text)"
   ]
  },
  {
   "cell_type": "markdown",
   "id": "8b77c828",
   "metadata": {},
   "source": [
    "## 3. جستجوی یک کلمه خاص در متن"
   ]
  },
  {
   "cell_type": "code",
   "execution_count": null,
   "id": "5d744be2",
   "metadata": {},
   "outputs": [],
   "source": [
    "search_word = \"علی رضایی\"\n",
    "if search_word in text:\n",
    "    print(f\"'{search_word}' در متن پیدا شد.\")\n",
    "else:\n",
    "    print(f\"'{search_word}' در متن وجود ندارد.\")"
   ]
  },
  {
   "cell_type": "markdown",
   "id": "bc58f2b0",
   "metadata": {},
   "source": [
    "## 4. شمارش تعداد تکرار یک کلمه در متن"
   ]
  },
  {
   "cell_type": "code",
   "execution_count": null,
   "id": "b4a32b99",
   "metadata": {},
   "outputs": [],
   "source": [
    "word_count = text.count(search_word)\n",
    "print(f\"تعداد تکرار '{search_word}':\", word_count)"
   ]
  }
 ],
 "metadata": {},
 "nbformat": 4,
 "nbformat_minor": 5
}
