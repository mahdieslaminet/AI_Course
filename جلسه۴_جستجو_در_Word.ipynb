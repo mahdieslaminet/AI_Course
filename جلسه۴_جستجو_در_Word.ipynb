{
  "cells": [
    {
      "cell_type": "markdown",
      "metadata": {
        "id": "view-in-github",
        "colab_type": "text"
      },
      "source": [
        "<a href=\"https://colab.research.google.com/github/mahdieslaminet/AI_Course/blob/main/%D8%AC%D9%84%D8%B3%D9%87%DB%B4_%D8%AC%D8%B3%D8%AA%D8%AC%D9%88_%D8%AF%D8%B1_Word.ipynb\" target=\"_parent\"><img src=\"https://colab.research.google.com/assets/colab-badge.svg\" alt=\"Open In Colab\"/></a>"
      ]
    },
    {
      "cell_type": "markdown",
      "id": "94fecc38",
      "metadata": {
        "id": "94fecc38"
      },
      "source": [
        "# جلسه ۴: استخراج و جستجو در فایل Word"
      ]
    },
    {
      "cell_type": "markdown",
      "id": "5e14410e",
      "metadata": {
        "id": "5e14410e"
      },
      "source": [
        "در این جلسه یاد می‌گیریم چگونه متن فایل Word را استخراج کنیم و به دنبال کلمات یا جملات خاص بگردیم."
      ]
    },
    {
      "cell_type": "markdown",
      "id": "cbb9fa07",
      "metadata": {
        "id": "cbb9fa07"
      },
      "source": [
        "## 1. نصب کتابخانه مورد نیاز"
      ]
    },
    {
      "cell_type": "code",
      "execution_count": 1,
      "id": "974b6aac",
      "metadata": {
        "id": "974b6aac",
        "outputId": "858914b2-e9e0-4765-b9b6-2b4d7cd36982",
        "colab": {
          "base_uri": "https://localhost:8080/"
        }
      },
      "outputs": [
        {
          "output_type": "stream",
          "name": "stdout",
          "text": [
            "Collecting python-docx\n",
            "  Downloading python_docx-1.1.2-py3-none-any.whl.metadata (2.0 kB)\n",
            "Requirement already satisfied: lxml>=3.1.0 in /usr/local/lib/python3.11/dist-packages (from python-docx) (5.4.0)\n",
            "Requirement already satisfied: typing-extensions>=4.9.0 in /usr/local/lib/python3.11/dist-packages (from python-docx) (4.13.2)\n",
            "Downloading python_docx-1.1.2-py3-none-any.whl (244 kB)\n",
            "\u001b[2K   \u001b[90m━━━━━━━━━━━━━━━━━━━━━━━━━━━━━━━━━━━━━━━━\u001b[0m \u001b[32m244.3/244.3 kB\u001b[0m \u001b[31m4.3 MB/s\u001b[0m eta \u001b[36m0:00:00\u001b[0m\n",
            "\u001b[?25hInstalling collected packages: python-docx\n",
            "Successfully installed python-docx-1.1.2\n"
          ]
        }
      ],
      "source": [
        "!pip install python-docx"
      ]
    },
    {
      "cell_type": "markdown",
      "id": "a6a39cf3",
      "metadata": {
        "id": "a6a39cf3"
      },
      "source": [
        "## 2. خواندن متن فایل Word"
      ]
    },
    {
      "cell_type": "code",
      "execution_count": 2,
      "id": "213b3744",
      "metadata": {
        "id": "213b3744",
        "outputId": "565be05e-4200-4324-bf2f-fe381d95f3cb",
        "colab": {
          "base_uri": "https://localhost:8080/"
        }
      },
      "outputs": [
        {
          "output_type": "stream",
          "name": "stdout",
          "text": [
            "Mounted at /content/drive\n",
            "متن نمونه برای جستجو\n",
            "این متن شامل اطلاعاتی درباره کارمندان است. علی رضایی مسئول دبیرخانه می‌باشد.\n",
            "مینا مرادی به عنوان کارشناس بایگانی فعالیت می‌کند.\n",
            "حسین احمدی در حال حاضر مسئول دفتر است.\n"
          ]
        }
      ],
      "source": [
        "from docx import Document\n",
        "from google.colab import drive\n",
        "\n",
        "# اتصال Google Drive\n",
        "drive.mount('/content/drive')\n",
        "\n",
        "file_path = \"/content/drive/MyDrive/نامه_اداری.docx\"  # مسیر فایل را تنظیم کنید\n",
        "\n",
        "doc = Document(file_path)\n",
        "text = \"\\n\".join([para.text for para in doc.paragraphs])\n",
        "print(text)"
      ]
    },
    {
      "cell_type": "markdown",
      "id": "8b77c828",
      "metadata": {
        "id": "8b77c828"
      },
      "source": [
        "## 3. جستجوی یک کلمه خاص در متن"
      ]
    },
    {
      "cell_type": "code",
      "execution_count": 3,
      "id": "5d744be2",
      "metadata": {
        "id": "5d744be2",
        "outputId": "cded5a9b-f349-413d-bef2-28975b0f6e3c",
        "colab": {
          "base_uri": "https://localhost:8080/"
        }
      },
      "outputs": [
        {
          "output_type": "stream",
          "name": "stdout",
          "text": [
            "'علی رضایی' در متن پیدا شد.\n"
          ]
        }
      ],
      "source": [
        "search_word = \"علی رضایی\"\n",
        "if search_word in text:\n",
        "    print(f\"'{search_word}' در متن پیدا شد.\")\n",
        "else:\n",
        "    print(f\"'{search_word}' در متن وجود ندارد.\")"
      ]
    },
    {
      "cell_type": "markdown",
      "id": "bc58f2b0",
      "metadata": {
        "id": "bc58f2b0"
      },
      "source": [
        "## 4. شمارش تعداد تکرار یک کلمه در متن"
      ]
    },
    {
      "cell_type": "code",
      "execution_count": 4,
      "id": "b4a32b99",
      "metadata": {
        "id": "b4a32b99",
        "outputId": "b6205807-5760-4a4c-dbae-d9bf1dd4df59",
        "colab": {
          "base_uri": "https://localhost:8080/"
        }
      },
      "outputs": [
        {
          "output_type": "stream",
          "name": "stdout",
          "text": [
            "تعداد تکرار 'علی رضایی': 1\n"
          ]
        }
      ],
      "source": [
        "word_count = text.count(search_word)\n",
        "print(f\"تعداد تکرار '{search_word}':\", word_count)"
      ]
    }
  ],
  "metadata": {
    "colab": {
      "provenance": [],
      "include_colab_link": true
    },
    "language_info": {
      "name": "python"
    },
    "kernelspec": {
      "name": "python3",
      "display_name": "Python 3"
    }
  },
  "nbformat": 4,
  "nbformat_minor": 5
}