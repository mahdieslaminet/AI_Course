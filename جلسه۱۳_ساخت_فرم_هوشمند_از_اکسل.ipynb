{
 "cells": [
  {
   "cell_type": "markdown",
   "id": "325457a6",
   "metadata": {},
   "source": [
    "# جلسه ۱۳: ساخت فرم‌های هوشمند از فایل اکسل"
   ]
  },
  {
   "cell_type": "markdown",
   "id": "bc08b93d",
   "metadata": {},
   "source": [
    "\n",
    "🎯 **هدف:**  \n",
    "در این جلسه یاد می‌گیریم چطور از فایل Excel یک فرم تعاملی بسازیم تا اطلاعات به‌صورت خودکار گرفته شده و به فایل اضافه شود.\n",
    "\n",
    "🛠️ **سرفصل‌ها:**  \n",
    "1. آپلود فایل Excel  \n",
    "2. شناسایی ستون‌ها به عنوان فیلدهای فرم  \n",
    "3. گرفتن اطلاعات جدید از کاربر  \n",
    "4. اضافه کردن اطلاعات به فایل و نمایش نتیجه\n"
   ]
  },
  {
   "cell_type": "markdown",
   "id": "26935c95",
   "metadata": {},
   "source": [
    "## 1. نصب کتابخانه مورد نیاز"
   ]
  },
  {
   "cell_type": "code",
   "execution_count": null,
   "id": "6b1224fa",
   "metadata": {},
   "outputs": [],
   "source": [
    "!pip install pandas openpyxl"
   ]
  },
  {
   "cell_type": "markdown",
   "id": "607990c2",
   "metadata": {},
   "source": [
    "## 2. آپلود فایل اکسل"
   ]
  },
  {
   "cell_type": "code",
   "execution_count": null,
   "id": "79cd93df",
   "metadata": {},
   "outputs": [],
   "source": [
    "from google.colab import files\n",
    "import pandas as pd\n",
    "\n",
    "uploaded = files.upload()\n",
    "\n",
    "for fn in uploaded:\n",
    "    if fn.endswith(\".xlsx\"):\n",
    "        file_name = fn\n",
    "        df = pd.read_excel(fn)\n",
    "        break\n",
    "\n",
    "print(\"📋 ستون‌های فایل:\")\n",
    "print(list(df.columns))"
   ]
  },
  {
   "cell_type": "markdown",
   "id": "3a7822de",
   "metadata": {},
   "source": [
    "## 3. فرم تعاملی برای دریافت اطلاعات"
   ]
  },
  {
   "cell_type": "code",
   "execution_count": null,
   "id": "1be7a2b6",
   "metadata": {},
   "outputs": [],
   "source": [
    "new_row = {}\n",
    "for col in df.columns:\n",
    "    val = input(f\"🔸 مقدار برای «{col}» را وارد کنید: \")\n",
    "    new_row[col] = val\n",
    "\n",
    "df = pd.concat([df, pd.DataFrame([new_row])], ignore_index=True)\n",
    "\n",
    "print(\"\\n✅ ردیف جدید اضافه شد. نمایش فایل به‌روز شده:\")\n",
    "display(df.tail())"
   ]
  },
  {
   "cell_type": "markdown",
   "id": "0b640c7c",
   "metadata": {},
   "source": [
    "## 4. ذخیره فایل نهایی"
   ]
  },
  {
   "cell_type": "code",
   "execution_count": null,
   "id": "4e6ca4b4",
   "metadata": {},
   "outputs": [],
   "source": [
    "output_name = \"output_form_result.xlsx\"\n",
    "df.to_excel(output_name, index=False)\n",
    "print(f\"📁 فایل با موفقیت ذخیره شد: {output_name}\")"
   ]
  }
 ],
 "metadata": {},
 "nbformat": 4,
 "nbformat_minor": 5
}
