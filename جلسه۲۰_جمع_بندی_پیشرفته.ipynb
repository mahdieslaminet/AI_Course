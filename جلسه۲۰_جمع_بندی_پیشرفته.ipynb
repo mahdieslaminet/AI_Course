{
 "cells": [
  {
   "cell_type": "markdown",
   "id": "4990eb47",
   "metadata": {},
   "source": [
    "# جلسه ۲۰: جمع‌بندی آموزش‌های پیشرفته (جلسات ۱۰ تا ۱۸)"
   ]
  },
  {
   "cell_type": "markdown",
   "id": "cb153ba4",
   "metadata": {},
   "source": [
    "\n",
    "🎯 **هدف:**  \n",
    "این جلسه برای مرور و جمع‌بندی آموزش‌های پیشرفته‌تر در حوزه هوش مصنوعی و ابزارهای تعاملی Google است.\n",
    "\n",
    "📚 **خلاصه جلسات ۱۰ تا ۱۸:**  \n",
    "✅ ساخت چت‌بات با فایل Word یا Excel  \n",
    "✅ خلاصه‌سازی و ترجمه متن با هوش مصنوعی  \n",
    "✅ تولید PDF از گزارش‌ها  \n",
    "✅ اتصال به Google Sheets  \n",
    "✅ تحلیل پاسخ‌های Google Forms\n",
    "\n",
    "🧪 این جلسه شامل نمونه‌های کاربردی و آماده اجرا از ابزارهای هوشمند است.\n"
   ]
  },
  {
   "cell_type": "markdown",
   "id": "d152b92f",
   "metadata": {},
   "source": [
    "## نمونه: خلاصه‌سازی متن Word"
   ]
  },
  {
   "cell_type": "code",
   "execution_count": null,
   "id": "3ecb290d",
   "metadata": {},
   "outputs": [],
   "source": [
    "from transformers import pipeline\n",
    "summarizer = pipeline(\"summarization\", model=\"sshleifer/distilbart-cnn-12-6\")\n",
    "\n",
    "text = '''اینجا متن طولانی از یک فایل Word قرار می‌گیرد.'''\n",
    "summary = summarizer(text, max_length=130, min_length=30, do_sample=False)[0]['summary_text']\n",
    "print(summary)"
   ]
  },
  {
   "cell_type": "markdown",
   "id": "9f54600d",
   "metadata": {},
   "source": [
    "## نمونه: اتصال و نوشتن در Google Sheet"
   ]
  },
  {
   "cell_type": "code",
   "execution_count": null,
   "id": "aa8afce2",
   "metadata": {},
   "outputs": [],
   "source": [
    "import gspread\n",
    "from oauth2client.client import GoogleCredentials\n",
    "from google.colab import auth\n",
    "auth.authenticate_user()\n",
    "\n",
    "gc = gspread.authorize(GoogleCredentials.get_application_default())\n",
    "sheet = gc.open_by_url(\"https://docs.google.com/spreadsheets/d/...\").sheet1\n",
    "sheet.append_row([\"نام\", \"تاریخ\", \"نمره\"])"
   ]
  }
 ],
 "metadata": {},
 "nbformat": 4,
 "nbformat_minor": 5
}
