{
  "cells": [
    {
      "cell_type": "markdown",
      "metadata": {
        "id": "view-in-github",
        "colab_type": "text"
      },
      "source": [
        "<a href=\"https://colab.research.google.com/github/mahdieslaminet/AI_Course/blob/main/%D8%AC%D9%84%D8%B3%D9%87%DB%B2_%D8%B1%D8%B3%D9%85_%D9%86%D9%85%D9%88%D8%AF%D8%A7%D8%B1.ipynb\" target=\"_parent\"><img src=\"https://colab.research.google.com/assets/colab-badge.svg\" alt=\"Open In Colab\"/></a>"
      ]
    },
    {
      "cell_type": "markdown",
      "id": "e965b62b",
      "metadata": {
        "id": "e965b62b"
      },
      "source": [
        "# جلسه ۲: کار با داده‌های Excel و رسم نمودار"
      ]
    },
    {
      "cell_type": "markdown",
      "id": "4d1b3a98",
      "metadata": {
        "id": "4d1b3a98"
      },
      "source": [
        "در این جلسه یاد می‌گیریم که چگونه از فایل Excel داده‌ها را خوانده و نمودار رسم کنیم."
      ]
    },
    {
      "cell_type": "markdown",
      "id": "134f44fc",
      "metadata": {
        "id": "134f44fc"
      },
      "source": [
        "## 1. خواندن فایل Excel\n",
        "ابتدا فایل را از Google Drive می‌خوانیم."
      ]
    },
    {
      "cell_type": "code",
      "execution_count": 2,
      "id": "8bd82a3e",
      "metadata": {
        "id": "8bd82a3e",
        "outputId": "7fe3855e-1a00-428a-d2e1-14cb67f6d00f",
        "colab": {
          "base_uri": "https://localhost:8080/",
          "height": 161
        }
      },
      "outputs": [
        {
          "output_type": "stream",
          "name": "stdout",
          "text": [
            "Mounted at /content/drive\n"
          ]
        },
        {
          "output_type": "execute_result",
          "data": {
            "text/plain": [
              "          نام  شماره پرسنلی              سمت      حقوق تاریخ استخدام\n",
              "0   علی رضایی          1001   مسئول دبیرخانه  12000000    1398/02/15\n",
              "1  مینا مرادی          1002  کارشناس بایگانی  11000000    1399/06/01\n",
              "2  حسین احمدی          1003       مسئول دفتر  13000000    1400/01/20"
            ],
            "text/html": [
              "\n",
              "  <div id=\"df-f1415ff9-01fc-4148-a826-a716a3eb94a4\" class=\"colab-df-container\">\n",
              "    <div>\n",
              "<style scoped>\n",
              "    .dataframe tbody tr th:only-of-type {\n",
              "        vertical-align: middle;\n",
              "    }\n",
              "\n",
              "    .dataframe tbody tr th {\n",
              "        vertical-align: top;\n",
              "    }\n",
              "\n",
              "    .dataframe thead th {\n",
              "        text-align: right;\n",
              "    }\n",
              "</style>\n",
              "<table border=\"1\" class=\"dataframe\">\n",
              "  <thead>\n",
              "    <tr style=\"text-align: right;\">\n",
              "      <th></th>\n",
              "      <th>نام</th>\n",
              "      <th>شماره پرسنلی</th>\n",
              "      <th>سمت</th>\n",
              "      <th>حقوق</th>\n",
              "      <th>تاریخ استخدام</th>\n",
              "    </tr>\n",
              "  </thead>\n",
              "  <tbody>\n",
              "    <tr>\n",
              "      <th>0</th>\n",
              "      <td>علی رضایی</td>\n",
              "      <td>1001</td>\n",
              "      <td>مسئول دبیرخانه</td>\n",
              "      <td>12000000</td>\n",
              "      <td>1398/02/15</td>\n",
              "    </tr>\n",
              "    <tr>\n",
              "      <th>1</th>\n",
              "      <td>مینا مرادی</td>\n",
              "      <td>1002</td>\n",
              "      <td>کارشناس بایگانی</td>\n",
              "      <td>11000000</td>\n",
              "      <td>1399/06/01</td>\n",
              "    </tr>\n",
              "    <tr>\n",
              "      <th>2</th>\n",
              "      <td>حسین احمدی</td>\n",
              "      <td>1003</td>\n",
              "      <td>مسئول دفتر</td>\n",
              "      <td>13000000</td>\n",
              "      <td>1400/01/20</td>\n",
              "    </tr>\n",
              "  </tbody>\n",
              "</table>\n",
              "</div>\n",
              "    <div class=\"colab-df-buttons\">\n",
              "\n",
              "  <div class=\"colab-df-container\">\n",
              "    <button class=\"colab-df-convert\" onclick=\"convertToInteractive('df-f1415ff9-01fc-4148-a826-a716a3eb94a4')\"\n",
              "            title=\"Convert this dataframe to an interactive table.\"\n",
              "            style=\"display:none;\">\n",
              "\n",
              "  <svg xmlns=\"http://www.w3.org/2000/svg\" height=\"24px\" viewBox=\"0 -960 960 960\">\n",
              "    <path d=\"M120-120v-720h720v720H120Zm60-500h600v-160H180v160Zm220 220h160v-160H400v160Zm0 220h160v-160H400v160ZM180-400h160v-160H180v160Zm440 0h160v-160H620v160ZM180-180h160v-160H180v160Zm440 0h160v-160H620v160Z\"/>\n",
              "  </svg>\n",
              "    </button>\n",
              "\n",
              "  <style>\n",
              "    .colab-df-container {\n",
              "      display:flex;\n",
              "      gap: 12px;\n",
              "    }\n",
              "\n",
              "    .colab-df-convert {\n",
              "      background-color: #E8F0FE;\n",
              "      border: none;\n",
              "      border-radius: 50%;\n",
              "      cursor: pointer;\n",
              "      display: none;\n",
              "      fill: #1967D2;\n",
              "      height: 32px;\n",
              "      padding: 0 0 0 0;\n",
              "      width: 32px;\n",
              "    }\n",
              "\n",
              "    .colab-df-convert:hover {\n",
              "      background-color: #E2EBFA;\n",
              "      box-shadow: 0px 1px 2px rgba(60, 64, 67, 0.3), 0px 1px 3px 1px rgba(60, 64, 67, 0.15);\n",
              "      fill: #174EA6;\n",
              "    }\n",
              "\n",
              "    .colab-df-buttons div {\n",
              "      margin-bottom: 4px;\n",
              "    }\n",
              "\n",
              "    [theme=dark] .colab-df-convert {\n",
              "      background-color: #3B4455;\n",
              "      fill: #D2E3FC;\n",
              "    }\n",
              "\n",
              "    [theme=dark] .colab-df-convert:hover {\n",
              "      background-color: #434B5C;\n",
              "      box-shadow: 0px 1px 3px 1px rgba(0, 0, 0, 0.15);\n",
              "      filter: drop-shadow(0px 1px 2px rgba(0, 0, 0, 0.3));\n",
              "      fill: #FFFFFF;\n",
              "    }\n",
              "  </style>\n",
              "\n",
              "    <script>\n",
              "      const buttonEl =\n",
              "        document.querySelector('#df-f1415ff9-01fc-4148-a826-a716a3eb94a4 button.colab-df-convert');\n",
              "      buttonEl.style.display =\n",
              "        google.colab.kernel.accessAllowed ? 'block' : 'none';\n",
              "\n",
              "      async function convertToInteractive(key) {\n",
              "        const element = document.querySelector('#df-f1415ff9-01fc-4148-a826-a716a3eb94a4');\n",
              "        const dataTable =\n",
              "          await google.colab.kernel.invokeFunction('convertToInteractive',\n",
              "                                                    [key], {});\n",
              "        if (!dataTable) return;\n",
              "\n",
              "        const docLinkHtml = 'Like what you see? Visit the ' +\n",
              "          '<a target=\"_blank\" href=https://colab.research.google.com/notebooks/data_table.ipynb>data table notebook</a>'\n",
              "          + ' to learn more about interactive tables.';\n",
              "        element.innerHTML = '';\n",
              "        dataTable['output_type'] = 'display_data';\n",
              "        await google.colab.output.renderOutput(dataTable, element);\n",
              "        const docLink = document.createElement('div');\n",
              "        docLink.innerHTML = docLinkHtml;\n",
              "        element.appendChild(docLink);\n",
              "      }\n",
              "    </script>\n",
              "  </div>\n",
              "\n",
              "\n",
              "    <div id=\"df-9d9e8213-7461-4cf0-9504-95e3cff96cd2\">\n",
              "      <button class=\"colab-df-quickchart\" onclick=\"quickchart('df-9d9e8213-7461-4cf0-9504-95e3cff96cd2')\"\n",
              "                title=\"Suggest charts\"\n",
              "                style=\"display:none;\">\n",
              "\n",
              "<svg xmlns=\"http://www.w3.org/2000/svg\" height=\"24px\"viewBox=\"0 0 24 24\"\n",
              "     width=\"24px\">\n",
              "    <g>\n",
              "        <path d=\"M19 3H5c-1.1 0-2 .9-2 2v14c0 1.1.9 2 2 2h14c1.1 0 2-.9 2-2V5c0-1.1-.9-2-2-2zM9 17H7v-7h2v7zm4 0h-2V7h2v10zm4 0h-2v-4h2v4z\"/>\n",
              "    </g>\n",
              "</svg>\n",
              "      </button>\n",
              "\n",
              "<style>\n",
              "  .colab-df-quickchart {\n",
              "      --bg-color: #E8F0FE;\n",
              "      --fill-color: #1967D2;\n",
              "      --hover-bg-color: #E2EBFA;\n",
              "      --hover-fill-color: #174EA6;\n",
              "      --disabled-fill-color: #AAA;\n",
              "      --disabled-bg-color: #DDD;\n",
              "  }\n",
              "\n",
              "  [theme=dark] .colab-df-quickchart {\n",
              "      --bg-color: #3B4455;\n",
              "      --fill-color: #D2E3FC;\n",
              "      --hover-bg-color: #434B5C;\n",
              "      --hover-fill-color: #FFFFFF;\n",
              "      --disabled-bg-color: #3B4455;\n",
              "      --disabled-fill-color: #666;\n",
              "  }\n",
              "\n",
              "  .colab-df-quickchart {\n",
              "    background-color: var(--bg-color);\n",
              "    border: none;\n",
              "    border-radius: 50%;\n",
              "    cursor: pointer;\n",
              "    display: none;\n",
              "    fill: var(--fill-color);\n",
              "    height: 32px;\n",
              "    padding: 0;\n",
              "    width: 32px;\n",
              "  }\n",
              "\n",
              "  .colab-df-quickchart:hover {\n",
              "    background-color: var(--hover-bg-color);\n",
              "    box-shadow: 0 1px 2px rgba(60, 64, 67, 0.3), 0 1px 3px 1px rgba(60, 64, 67, 0.15);\n",
              "    fill: var(--button-hover-fill-color);\n",
              "  }\n",
              "\n",
              "  .colab-df-quickchart-complete:disabled,\n",
              "  .colab-df-quickchart-complete:disabled:hover {\n",
              "    background-color: var(--disabled-bg-color);\n",
              "    fill: var(--disabled-fill-color);\n",
              "    box-shadow: none;\n",
              "  }\n",
              "\n",
              "  .colab-df-spinner {\n",
              "    border: 2px solid var(--fill-color);\n",
              "    border-color: transparent;\n",
              "    border-bottom-color: var(--fill-color);\n",
              "    animation:\n",
              "      spin 1s steps(1) infinite;\n",
              "  }\n",
              "\n",
              "  @keyframes spin {\n",
              "    0% {\n",
              "      border-color: transparent;\n",
              "      border-bottom-color: var(--fill-color);\n",
              "      border-left-color: var(--fill-color);\n",
              "    }\n",
              "    20% {\n",
              "      border-color: transparent;\n",
              "      border-left-color: var(--fill-color);\n",
              "      border-top-color: var(--fill-color);\n",
              "    }\n",
              "    30% {\n",
              "      border-color: transparent;\n",
              "      border-left-color: var(--fill-color);\n",
              "      border-top-color: var(--fill-color);\n",
              "      border-right-color: var(--fill-color);\n",
              "    }\n",
              "    40% {\n",
              "      border-color: transparent;\n",
              "      border-right-color: var(--fill-color);\n",
              "      border-top-color: var(--fill-color);\n",
              "    }\n",
              "    60% {\n",
              "      border-color: transparent;\n",
              "      border-right-color: var(--fill-color);\n",
              "    }\n",
              "    80% {\n",
              "      border-color: transparent;\n",
              "      border-right-color: var(--fill-color);\n",
              "      border-bottom-color: var(--fill-color);\n",
              "    }\n",
              "    90% {\n",
              "      border-color: transparent;\n",
              "      border-bottom-color: var(--fill-color);\n",
              "    }\n",
              "  }\n",
              "</style>\n",
              "\n",
              "      <script>\n",
              "        async function quickchart(key) {\n",
              "          const quickchartButtonEl =\n",
              "            document.querySelector('#' + key + ' button');\n",
              "          quickchartButtonEl.disabled = true;  // To prevent multiple clicks.\n",
              "          quickchartButtonEl.classList.add('colab-df-spinner');\n",
              "          try {\n",
              "            const charts = await google.colab.kernel.invokeFunction(\n",
              "                'suggestCharts', [key], {});\n",
              "          } catch (error) {\n",
              "            console.error('Error during call to suggestCharts:', error);\n",
              "          }\n",
              "          quickchartButtonEl.classList.remove('colab-df-spinner');\n",
              "          quickchartButtonEl.classList.add('colab-df-quickchart-complete');\n",
              "        }\n",
              "        (() => {\n",
              "          let quickchartButtonEl =\n",
              "            document.querySelector('#df-9d9e8213-7461-4cf0-9504-95e3cff96cd2 button');\n",
              "          quickchartButtonEl.style.display =\n",
              "            google.colab.kernel.accessAllowed ? 'block' : 'none';\n",
              "        })();\n",
              "      </script>\n",
              "    </div>\n",
              "    </div>\n",
              "  </div>\n"
            ],
            "application/vnd.google.colaboratory.intrinsic+json": {
              "type": "dataframe",
              "variable_name": "df",
              "summary": "{\n  \"name\": \"df\",\n  \"rows\": 3,\n  \"fields\": [\n    {\n      \"column\": \"\\u0646\\u0627\\u0645\",\n      \"properties\": {\n        \"dtype\": \"string\",\n        \"num_unique_values\": 3,\n        \"samples\": [\n          \"\\u0639\\u0644\\u06cc \\u0631\\u0636\\u0627\\u06cc\\u06cc\",\n          \"\\u0645\\u06cc\\u0646\\u0627 \\u0645\\u0631\\u0627\\u062f\\u06cc\",\n          \"\\u062d\\u0633\\u06cc\\u0646 \\u0627\\u062d\\u0645\\u062f\\u06cc\"\n        ],\n        \"semantic_type\": \"\",\n        \"description\": \"\"\n      }\n    },\n    {\n      \"column\": \"\\u0634\\u0645\\u0627\\u0631\\u0647 \\u067e\\u0631\\u0633\\u0646\\u0644\\u06cc\",\n      \"properties\": {\n        \"dtype\": \"number\",\n        \"std\": 1,\n        \"min\": 1001,\n        \"max\": 1003,\n        \"num_unique_values\": 3,\n        \"samples\": [\n          1001,\n          1002,\n          1003\n        ],\n        \"semantic_type\": \"\",\n        \"description\": \"\"\n      }\n    },\n    {\n      \"column\": \"\\u0633\\u0645\\u062a\",\n      \"properties\": {\n        \"dtype\": \"string\",\n        \"num_unique_values\": 3,\n        \"samples\": [\n          \"\\u0645\\u0633\\u0626\\u0648\\u0644 \\u062f\\u0628\\u06cc\\u0631\\u062e\\u0627\\u0646\\u0647\",\n          \"\\u06a9\\u0627\\u0631\\u0634\\u0646\\u0627\\u0633 \\u0628\\u0627\\u06cc\\u06af\\u0627\\u0646\\u06cc\",\n          \"\\u0645\\u0633\\u0626\\u0648\\u0644 \\u062f\\u0641\\u062a\\u0631\"\n        ],\n        \"semantic_type\": \"\",\n        \"description\": \"\"\n      }\n    },\n    {\n      \"column\": \"\\u062d\\u0642\\u0648\\u0642\",\n      \"properties\": {\n        \"dtype\": \"number\",\n        \"std\": 1000000,\n        \"min\": 11000000,\n        \"max\": 13000000,\n        \"num_unique_values\": 3,\n        \"samples\": [\n          12000000,\n          11000000,\n          13000000\n        ],\n        \"semantic_type\": \"\",\n        \"description\": \"\"\n      }\n    },\n    {\n      \"column\": \"\\u062a\\u0627\\u0631\\u06cc\\u062e \\u0627\\u0633\\u062a\\u062e\\u062f\\u0627\\u0645\",\n      \"properties\": {\n        \"dtype\": \"string\",\n        \"num_unique_values\": 3,\n        \"samples\": [\n          \"1398/02/15\",\n          \"1399/06/01\",\n          \"1400/01/20\"\n        ],\n        \"semantic_type\": \"\",\n        \"description\": \"\"\n      }\n    }\n  ]\n}"
            }
          },
          "metadata": {},
          "execution_count": 2
        }
      ],
      "source": [
        "import pandas as pd\n",
        "from google.colab import drive\n",
        "\n",
        "# اتصال Google Drive\n",
        "drive.mount('/content/drive')\n",
        "\n",
        "# مسیر فایل Excel در Google Drive (مسیر را مطابق فایل خود تنظیم کنید)\n",
        "file_path = '/content/drive/MyDrive/AI_Course/Karmandan.xlsx'\n",
        "\n",
        "# خواندن فایل Excel\n",
        "df = pd.read_excel(file_path)\n",
        "\n",
        "# نمایش چند سطر اول\n",
        "df.head()\n"
      ]
    },
    {
      "cell_type": "markdown",
      "id": "45c94f5f",
      "metadata": {
        "id": "45c94f5f"
      },
      "source": [
        "## 2. رسم نمودار میله‌ای\n",
        "تعداد کارمندان در هر سمت را به صورت نمودار میله‌ای نمایش می‌دهیم."
      ]
    },
    {
      "cell_type": "code",
      "execution_count": 3,
      "id": "27b761dc",
      "metadata": {
        "id": "27b761dc",
        "outputId": "8169c5e5-0974-4889-f86a-6572d3c32cdb",
        "colab": {
          "base_uri": "https://localhost:8080/",
          "height": 568
        }
      },
      "outputs": [
        {
          "output_type": "display_data",
          "data": {
            "text/plain": [
              "<Figure size 640x480 with 1 Axes>"
            ],
            "image/png": "[encoded data removed]"
          },
          "metadata": {}
        }
      ],
      "source": [
        "import matplotlib.pyplot as plt\n",
        "\n",
        "# شمارش تعداد کارمندان بر اساس سمت\n",
        "count_by_position = df[\"سمت\"].value_counts()\n",
        "\n",
        "# رسم نمودار\n",
        "count_by_position.plot(kind='bar', color='skyblue')\n",
        "plt.title(\"تعداد کارمندان در هر سمت\")\n",
        "plt.xlabel(\"سمت\")\n",
        "plt.ylabel(\"تعداد\")\n",
        "plt.xticks(rotation=45)\n",
        "plt.grid(axis='y')\n",
        "plt.show()"
      ]
    },
    {
      "cell_type": "markdown",
      "id": "efa17f7b",
      "metadata": {
        "id": "efa17f7b"
      },
      "source": [
        "## 3. نمودار حقوق کارمندان\n",
        "حقوق هر کارمند را به صورت نمودار ستونی نمایش می‌دهیم."
      ]
    },
    {
      "cell_type": "code",
      "execution_count": 4,
      "id": "0dca06d0",
      "metadata": {
        "id": "0dca06d0",
        "outputId": "d269a824-2b3f-4523-b58e-b43b49623fb6",
        "colab": {
          "base_uri": "https://localhost:8080/",
          "height": 469
        }
      },
      "outputs": [
        {
          "output_type": "display_data",
          "data": {
            "text/plain": [
              "<Figure size 800x400 with 1 Axes>"
            ],
            "image/png": "[encoded data removed]"
          },
          "metadata": {}
        }
      ],
      "source": [
        "plt.figure(figsize=(8,4))\n",
        "plt.bar(df[\"نام\"], df[\"حقوق\"], color='lightgreen')\n",
        "plt.title(\"حقوق کارمندان\")\n",
        "plt.xlabel(\"نام\")\n",
        "plt.ylabel(\"حقوق (تومان)\")\n",
        "plt.xticks(rotation=45)\n",
        "plt.grid(axis='y')\n",
        "plt.show()"
      ]
    }
  ],
  "metadata": {
    "colab": {
      "provenance": [],
      "include_colab_link": true
    },
    "language_info": {
      "name": "python"
    },
    "kernelspec": {
      "name": "python3",
      "display_name": "Python 3"
    }
  },
  "nbformat": 4,
  "nbformat_minor": 5
}