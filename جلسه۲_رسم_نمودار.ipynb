{
 "cells": [
  {
   "cell_type": "markdown",
   "id": "e965b62b",
   "metadata": {},
   "source": [
    "# جلسه ۲: کار با داده‌های Excel و رسم نمودار"
   ]
  },
  {
   "cell_type": "markdown",
   "id": "4d1b3a98",
   "metadata": {},
   "source": [
    "در این جلسه یاد می‌گیریم که چگونه از فایل Excel داده‌ها را خوانده و نمودار رسم کنیم."
   ]
  },
  {
   "cell_type": "markdown",
   "id": "134f44fc",
   "metadata": {},
   "source": [
    "## 1. خواندن فایل Excel\n",
    "ابتدا فایل را از Google Drive می‌خوانیم."
   ]
  },
  {
   "cell_type": "code",
   "execution_count": null,
   "id": "8bd82a3e",
   "metadata": {},
   "outputs": [],
   "source": [
    "import pandas as pd\n",
    "\n",
    "file_path = \"/content/drive/MyDrive/کارمندان.xlsx\"  # مسیر فایل را تنظیم کنید\n",
    "df = pd.read_excel(file_path)\n",
    "df.head()"
   ]
  },
  {
   "cell_type": "markdown",
   "id": "45c94f5f",
   "metadata": {},
   "source": [
    "## 2. رسم نمودار میله‌ای\n",
    "تعداد کارمندان در هر سمت را به صورت نمودار میله‌ای نمایش می‌دهیم."
   ]
  },
  {
   "cell_type": "code",
   "execution_count": null,
   "id": "27b761dc",
   "metadata": {},
   "outputs": [],
   "source": [
    "import matplotlib.pyplot as plt\n",
    "\n",
    "# شمارش تعداد کارمندان بر اساس سمت\n",
    "count_by_position = df[\"سمت\"].value_counts()\n",
    "\n",
    "# رسم نمودار\n",
    "count_by_position.plot(kind='bar', color='skyblue')\n",
    "plt.title(\"تعداد کارمندان در هر سمت\")\n",
    "plt.xlabel(\"سمت\")\n",
    "plt.ylabel(\"تعداد\")\n",
    "plt.xticks(rotation=45)\n",
    "plt.grid(axis='y')\n",
    "plt.show()"
   ]
  },
  {
   "cell_type": "markdown",
   "id": "efa17f7b",
   "metadata": {},
   "source": [
    "## 3. نمودار حقوق کارمندان\n",
    "حقوق هر کارمند را به صورت نمودار ستونی نمایش می‌دهیم."
   ]
  },
  {
   "cell_type": "code",
   "execution_count": null,
   "id": "0dca06d0",
   "metadata": {},
   "outputs": [],
   "source": [
    "plt.figure(figsize=(8,4))\n",
    "plt.bar(df[\"نام\"], df[\"حقوق\"], color='lightgreen')\n",
    "plt.title(\"حقوق کارمندان\")\n",
    "plt.xlabel(\"نام\")\n",
    "plt.ylabel(\"حقوق (تومان)\")\n",
    "plt.xticks(rotation=45)\n",
    "plt.grid(axis='y')\n",
    "plt.show()"
   ]
  }
 ],
 "metadata": {},
 "nbformat": 4,
 "nbformat_minor": 5
}
