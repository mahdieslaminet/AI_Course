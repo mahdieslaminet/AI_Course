{
 "cells": [
  {
   "cell_type": "markdown",
   "id": "1b746170",
   "metadata": {},
   "source": [
    "# جلسه ۱۴: چت‌بات پاسخ‌گو به سوالات از فایل Word یا Excel"
   ]
  },
  {
   "cell_type": "markdown",
   "id": "0727d626",
   "metadata": {},
   "source": [
    "\n",
    "🎯 **هدف:**  \n",
    "در این جلسه یاد می‌گیریم چطور یک چت‌بات ساده طراحی کنیم که بتواند از فایل‌های Word یا Excel به سوالات کاربر پاسخ دهد.\n",
    "\n",
    "🛠️ **سرفصل‌ها:**  \n",
    "1. آپلود فایل  \n",
    "2. استخراج متن از Word یا Excel  \n",
    "3. گرفتن سوال از کاربر  \n",
    "4. جستجو در فایل و پاسخ‌دهی متنی (با مقداری هوشمندی)\n"
   ]
  },
  {
   "cell_type": "markdown",
   "id": "7b0b1cba",
   "metadata": {},
   "source": [
    "## 1. نصب کتابخانه‌های مورد نیاز"
   ]
  },
  {
   "cell_type": "code",
   "execution_count": null,
   "id": "25301623",
   "metadata": {},
   "outputs": [],
   "source": [
    "!pip install pandas python-docx"
   ]
  },
  {
   "cell_type": "markdown",
   "id": "87427898",
   "metadata": {},
   "source": [
    "## 2. آپلود فایل Word یا Excel"
   ]
  },
  {
   "cell_type": "code",
   "execution_count": null,
   "id": "3f09db75",
   "metadata": {},
   "outputs": [],
   "source": [
    "from google.colab import files\n",
    "import pandas as pd\n",
    "from docx import Document\n",
    "\n",
    "uploaded = files.upload()\n",
    "\n",
    "text_data = \"\"\n",
    "df_data = None\n",
    "\n",
    "for fn in uploaded:\n",
    "    if fn.endswith(\".docx\"):\n",
    "        doc = Document(fn)\n",
    "        text_data = \"\\n\".join([p.text for p in doc.paragraphs])\n",
    "    elif fn.endswith(\".xlsx\"):\n",
    "        df_data = pd.read_excel(fn)\n",
    "\n",
    "if text_data:\n",
    "    print(\"📄 متن استخراج شده از Word:\")\n",
    "    print(text_data[:500])\n",
    "elif df_data is not None:\n",
    "    print(\"📊 داده‌های استخراج شده از Excel:\")\n",
    "    display(df_data.head())\n",
    "else:\n",
    "    print(\"⚠️ فایل پشتیبانی نشده یا خالی.\")"
   ]
  },
  {
   "cell_type": "markdown",
   "id": "6903983d",
   "metadata": {},
   "source": [
    "## 3. چت‌بات پاسخ‌گو به سوال"
   ]
  },
  {
   "cell_type": "code",
   "execution_count": null,
   "id": "618d48d4",
   "metadata": {},
   "outputs": [],
   "source": [
    "while True:\n",
    "    question = input(\"❓ سوال خود را وارد کنید (برای خروج 'خروج' بنویسید): \").strip()\n",
    "    if question.lower() == \"خروج\":\n",
    "        print(\"👋 پایان چت‌بات\")\n",
    "        break\n",
    "\n",
    "    if text_data:\n",
    "        found = [line for line in text_data.split(\"\\n\") if question in line]\n",
    "        if found:\n",
    "            print(\"✅ پاسخ از متن Word:\")\n",
    "            for f in found:\n",
    "                print(\"-\", f)\n",
    "        else:\n",
    "            print(\"❌ پاسخی در متن پیدا نشد.\")\n",
    "    elif df_data is not None:\n",
    "        results = df_data[df_data.apply(lambda row: row.astype(str).str.contains(question).any(), axis=1)]\n",
    "        if not results.empty:\n",
    "            print(\"✅ پاسخ از جدول Excel:\")\n",
    "            display(results)\n",
    "        else:\n",
    "            print(\"❌ پاسخی در جدول یافت نشد.\")"
   ]
  }
 ],
 "metadata": {},
 "nbformat": 4,
 "nbformat_minor": 5
}
