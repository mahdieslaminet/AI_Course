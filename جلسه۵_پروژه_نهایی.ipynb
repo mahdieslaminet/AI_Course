{
  "cells": [
    {
      "cell_type": "markdown",
      "metadata": {
        "id": "view-in-github",
        "colab_type": "text"
      },
      "source": [
        "<a href=\"https://colab.research.google.com/github/mahdieslaminet/AI_Course/blob/main/%D8%AC%D9%84%D8%B3%D9%87%DB%B5_%D9%BE%D8%B1%D9%88%DA%98%D9%87_%D9%86%D9%87%D8%A7%DB%8C%DB%8C.ipynb\" target=\"_parent\"><img src=\"https://colab.research.google.com/assets/colab-badge.svg\" alt=\"Open In Colab\"/></a>"
      ]
    },
    {
      "cell_type": "markdown",
      "id": "06e35eb1",
      "metadata": {
        "id": "06e35eb1"
      },
      "source": [
        "# جلسه ۵: پروژه نهایی - ترکیب Excel و Word"
      ]
    },
    {
      "cell_type": "markdown",
      "id": "e68e0a7e",
      "metadata": {
        "id": "e68e0a7e"
      },
      "source": [
        "در این پروژه نهایی می‌خواهیم اطلاعاتی از فایل Excel و Word را ترکیب کنیم. مثلاً ببینیم آیا نام افراد فایل Excel در متن Word نیز آمده یا نه."
      ]
    },
    {
      "cell_type": "markdown",
      "id": "87cbaddc",
      "metadata": {
        "id": "87cbaddc"
      },
      "source": [
        "## 1. نصب کتابخانه‌های مورد نیاز"
      ]
    },
    {
      "cell_type": "code",
      "execution_count": 1,
      "id": "1bbeaa08",
      "metadata": {
        "id": "1bbeaa08",
        "outputId": "12f55afa-7c64-4f3f-d580-dec0f2ab47c2",
        "colab": {
          "base_uri": "https://localhost:8080/"
        }
      },
      "outputs": [
        {
          "output_type": "stream",
          "name": "stdout",
          "text": [
            "Requirement already satisfied: pandas in /usr/local/lib/python3.11/dist-packages (2.2.2)\n",
            "Collecting python-docx\n",
            "  Downloading python_docx-1.1.2-py3-none-any.whl.metadata (2.0 kB)\n",
            "Requirement already satisfied: numpy>=1.23.2 in /usr/local/lib/python3.11/dist-packages (from pandas) (2.0.2)\n",
            "Requirement already satisfied: python-dateutil>=2.8.2 in /usr/local/lib/python3.11/dist-packages (from pandas) (2.9.0.post0)\n",
            "Requirement already satisfied: pytz>=2020.1 in /usr/local/lib/python3.11/dist-packages (from pandas) (2025.2)\n",
            "Requirement already satisfied: tzdata>=2022.7 in /usr/local/lib/python3.11/dist-packages (from pandas) (2025.2)\n",
            "Requirement already satisfied: lxml>=3.1.0 in /usr/local/lib/python3.11/dist-packages (from python-docx) (5.4.0)\n",
            "Requirement already satisfied: typing-extensions>=4.9.0 in /usr/local/lib/python3.11/dist-packages (from python-docx) (4.13.2)\n",
            "Requirement already satisfied: six>=1.5 in /usr/local/lib/python3.11/dist-packages (from python-dateutil>=2.8.2->pandas) (1.17.0)\n",
            "Downloading python_docx-1.1.2-py3-none-any.whl (244 kB)\n",
            "\u001b[2K   \u001b[90m━━━━━━━━━━━━━━━━━━━━━━━━━━━━━━━━━━━━━━━━\u001b[0m \u001b[32m244.3/244.3 kB\u001b[0m \u001b[31m3.6 MB/s\u001b[0m eta \u001b[36m0:00:00\u001b[0m\n",
            "\u001b[?25hInstalling collected packages: python-docx\n",
            "Successfully installed python-docx-1.1.2\n"
          ]
        }
      ],
      "source": [
        "!pip install pandas python-docx"
      ]
    },
    {
      "cell_type": "markdown",
      "id": "ef48cc97",
      "metadata": {
        "id": "ef48cc97"
      },
      "source": [
        "## 2. خواندن فایل Excel"
      ]
    },
    {
      "cell_type": "code",
      "execution_count": 2,
      "id": "a2bc4078",
      "metadata": {
        "id": "a2bc4078",
        "outputId": "9ce15f46-038e-4094-a531-2683293c2ebd",
        "colab": {
          "base_uri": "https://localhost:8080/",
          "height": 160
        }
      },
      "outputs": [
        {
          "output_type": "stream",
          "name": "stdout",
          "text": [
            "Mounted at /content/drive\n"
          ]
        },
        {
          "output_type": "execute_result",
          "data": {
            "text/plain": [
              "          نام  شماره پرسنلی              سمت      حقوق تاریخ استخدام\n",
              "0   علی رضایی          1001   مسئول دبیرخانه  12000000    1398/02/15\n",
              "1  مینا مرادی          1002  کارشناس بایگانی  11000000    1399/06/01\n",
              "2  حسین احمدی          1003       مسئول دفتر  13000000    1400/01/20"
            ],
            "text/html": [
              "\n",
              "  <div id=\"df-fc581d3c-dd77-42a3-9206-4aae53f16ccf\" class=\"colab-df-container\">\n",
              "    <div>\n",
              "<style scoped>\n",
              "    .dataframe tbody tr th:only-of-type {\n",
              "        vertical-align: middle;\n",
              "    }\n",
              "\n",
              "    .dataframe tbody tr th {\n",
              "        vertical-align: top;\n",
              "    }\n",
              "\n",
              "    .dataframe thead th {\n",
              "        text-align: right;\n",
              "    }\n",
              "</style>\n",
              "<table border=\"1\" class=\"dataframe\">\n",
              "  <thead>\n",
              "    <tr style=\"text-align: right;\">\n",
              "      <th></th>\n",
              "      <th>نام</th>\n",
              "      <th>شماره پرسنلی</th>\n",
              "      <th>سمت</th>\n",
              "      <th>حقوق</th>\n",
              "      <th>تاریخ استخدام</th>\n",
              "    </tr>\n",
              "  </thead>\n",
              "  <tbody>\n",
              "    <tr>\n",
              "      <th>0</th>\n",
              "      <td>علی رضایی</td>\n",
              "      <td>1001</td>\n",
              "      <td>مسئول دبیرخانه</td>\n",
              "      <td>12000000</td>\n",
              "      <td>1398/02/15</td>\n",
              "    </tr>\n",
              "    <tr>\n",
              "      <th>1</th>\n",
              "      <td>مینا مرادی</td>\n",
              "      <td>1002</td>\n",
              "      <td>کارشناس بایگانی</td>\n",
              "      <td>11000000</td>\n",
              "      <td>1399/06/01</td>\n",
              "    </tr>\n",
              "    <tr>\n",
              "      <th>2</th>\n",
              "      <td>حسین احمدی</td>\n",
              "      <td>1003</td>\n",
              "      <td>مسئول دفتر</td>\n",
              "      <td>13000000</td>\n",
              "      <td>1400/01/20</td>\n",
              "    </tr>\n",
              "  </tbody>\n",
              "</table>\n",
              "</div>\n",
              "    <div class=\"colab-df-buttons\">\n",
              "\n",
              "  <div class=\"colab-df-container\">\n",
              "    <button class=\"colab-df-convert\" onclick=\"convertToInteractive('df-fc581d3c-dd77-42a3-9206-4aae53f16ccf')\"\n",
              "            title=\"Convert this dataframe to an interactive table.\"\n",
              "            style=\"display:none;\">\n",
              "\n",
              "  <svg xmlns=\"http://www.w3.org/2000/svg\" height=\"24px\" viewBox=\"0 -960 960 960\">\n",
              "    <path d=\"M120-120v-720h720v720H120Zm60-500h600v-160H180v160Zm220 220h160v-160H400v160Zm0 220h160v-160H400v160ZM180-400h160v-160H180v160Zm440 0h160v-160H620v160ZM180-180h160v-160H180v160Zm440 0h160v-160H620v160Z\"/>\n",
              "  </svg>\n",
              "    </button>\n",
              "\n",
              "  <style>\n",
              "    .colab-df-container {\n",
              "      display:flex;\n",
              "      gap: 12px;\n",
              "    }\n",
              "\n",
              "    .colab-df-convert {\n",
              "      background-color: #E8F0FE;\n",
              "      border: none;\n",
              "      border-radius: 50%;\n",
              "      cursor: pointer;\n",
              "      display: none;\n",
              "      fill: #1967D2;\n",
              "      height: 32px;\n",
              "      padding: 0 0 0 0;\n",
              "      width: 32px;\n",
              "    }\n",
              "\n",
              "    .colab-df-convert:hover {\n",
              "      background-color: #E2EBFA;\n",
              "      box-shadow: 0px 1px 2px rgba(60, 64, 67, 0.3), 0px 1px 3px 1px rgba(60, 64, 67, 0.15);\n",
              "      fill: #174EA6;\n",
              "    }\n",
              "\n",
              "    .colab-df-buttons div {\n",
              "      margin-bottom: 4px;\n",
              "    }\n",
              "\n",
              "    [theme=dark] .colab-df-convert {\n",
              "      background-color: #3B4455;\n",
              "      fill: #D2E3FC;\n",
              "    }\n",
              "\n",
              "    [theme=dark] .colab-df-convert:hover {\n",
              "      background-color: #434B5C;\n",
              "      box-shadow: 0px 1px 3px 1px rgba(0, 0, 0, 0.15);\n",
              "      filter: drop-shadow(0px 1px 2px rgba(0, 0, 0, 0.3));\n",
              "      fill: #FFFFFF;\n",
              "    }\n",
              "  </style>\n",
              "\n",
              "    <script>\n",
              "      const buttonEl =\n",
              "        document.querySelector('#df-fc581d3c-dd77-42a3-9206-4aae53f16ccf button.colab-df-convert');\n",
              "      buttonEl.style.display =\n",
              "        google.colab.kernel.accessAllowed ? 'block' : 'none';\n",
              "\n",
              "      async function convertToInteractive(key) {\n",
              "        const element = document.querySelector('#df-fc581d3c-dd77-42a3-9206-4aae53f16ccf');\n",
              "        const dataTable =\n",
              "          await google.colab.kernel.invokeFunction('convertToInteractive',\n",
              "                                                    [key], {});\n",
              "        if (!dataTable) return;\n",
              "\n",
              "        const docLinkHtml = 'Like what you see? Visit the ' +\n",
              "          '<a target=\"_blank\" href=https://colab.research.google.com/notebooks/data_table.ipynb>data table notebook</a>'\n",
              "          + ' to learn more about interactive tables.';\n",
              "        element.innerHTML = '';\n",
              "        dataTable['output_type'] = 'display_data';\n",
              "        await google.colab.output.renderOutput(dataTable, element);\n",
              "        const docLink = document.createElement('div');\n",
              "        docLink.innerHTML = docLinkHtml;\n",
              "        element.appendChild(docLink);\n",
              "      }\n",
              "    </script>\n",
              "  </div>\n",
              "\n",
              "\n",
              "    <div id=\"df-300da309-c48d-42ac-9bf3-b1c9f3f9b86d\">\n",
              "      <button class=\"colab-df-quickchart\" onclick=\"quickchart('df-300da309-c48d-42ac-9bf3-b1c9f3f9b86d')\"\n",
              "                title=\"Suggest charts\"\n",
              "                style=\"display:none;\">\n",
              "\n",
              "<svg xmlns=\"http://www.w3.org/2000/svg\" height=\"24px\"viewBox=\"0 0 24 24\"\n",
              "     width=\"24px\">\n",
              "    <g>\n",
              "        <path d=\"M19 3H5c-1.1 0-2 .9-2 2v14c0 1.1.9 2 2 2h14c1.1 0 2-.9 2-2V5c0-1.1-.9-2-2-2zM9 17H7v-7h2v7zm4 0h-2V7h2v10zm4 0h-2v-4h2v4z\"/>\n",
              "    </g>\n",
              "</svg>\n",
              "      </button>\n",
              "\n",
              "<style>\n",
              "  .colab-df-quickchart {\n",
              "      --bg-color: #E8F0FE;\n",
              "      --fill-color: #1967D2;\n",
              "      --hover-bg-color: #E2EBFA;\n",
              "      --hover-fill-color: #174EA6;\n",
              "      --disabled-fill-color: #AAA;\n",
              "      --disabled-bg-color: #DDD;\n",
              "  }\n",
              "\n",
              "  [theme=dark] .colab-df-quickchart {\n",
              "      --bg-color: #3B4455;\n",
              "      --fill-color: #D2E3FC;\n",
              "      --hover-bg-color: #434B5C;\n",
              "      --hover-fill-color: #FFFFFF;\n",
              "      --disabled-bg-color: #3B4455;\n",
              "      --disabled-fill-color: #666;\n",
              "  }\n",
              "\n",
              "  .colab-df-quickchart {\n",
              "    background-color: var(--bg-color);\n",
              "    border: none;\n",
              "    border-radius: 50%;\n",
              "    cursor: pointer;\n",
              "    display: none;\n",
              "    fill: var(--fill-color);\n",
              "    height: 32px;\n",
              "    padding: 0;\n",
              "    width: 32px;\n",
              "  }\n",
              "\n",
              "  .colab-df-quickchart:hover {\n",
              "    background-color: var(--hover-bg-color);\n",
              "    box-shadow: 0 1px 2px rgba(60, 64, 67, 0.3), 0 1px 3px 1px rgba(60, 64, 67, 0.15);\n",
              "    fill: var(--button-hover-fill-color);\n",
              "  }\n",
              "\n",
              "  .colab-df-quickchart-complete:disabled,\n",
              "  .colab-df-quickchart-complete:disabled:hover {\n",
              "    background-color: var(--disabled-bg-color);\n",
              "    fill: var(--disabled-fill-color);\n",
              "    box-shadow: none;\n",
              "  }\n",
              "\n",
              "  .colab-df-spinner {\n",
              "    border: 2px solid var(--fill-color);\n",
              "    border-color: transparent;\n",
              "    border-bottom-color: var(--fill-color);\n",
              "    animation:\n",
              "      spin 1s steps(1) infinite;\n",
              "  }\n",
              "\n",
              "  @keyframes spin {\n",
              "    0% {\n",
              "      border-color: transparent;\n",
              "      border-bottom-color: var(--fill-color);\n",
              "      border-left-color: var(--fill-color);\n",
              "    }\n",
              "    20% {\n",
              "      border-color: transparent;\n",
              "      border-left-color: var(--fill-color);\n",
              "      border-top-color: var(--fill-color);\n",
              "    }\n",
              "    30% {\n",
              "      border-color: transparent;\n",
              "      border-left-color: var(--fill-color);\n",
              "      border-top-color: var(--fill-color);\n",
              "      border-right-color: var(--fill-color);\n",
              "    }\n",
              "    40% {\n",
              "      border-color: transparent;\n",
              "      border-right-color: var(--fill-color);\n",
              "      border-top-color: var(--fill-color);\n",
              "    }\n",
              "    60% {\n",
              "      border-color: transparent;\n",
              "      border-right-color: var(--fill-color);\n",
              "    }\n",
              "    80% {\n",
              "      border-color: transparent;\n",
              "      border-right-color: var(--fill-color);\n",
              "      border-bottom-color: var(--fill-color);\n",
              "    }\n",
              "    90% {\n",
              "      border-color: transparent;\n",
              "      border-bottom-color: var(--fill-color);\n",
              "    }\n",
              "  }\n",
              "</style>\n",
              "\n",
              "      <script>\n",
              "        async function quickchart(key) {\n",
              "          const quickchartButtonEl =\n",
              "            document.querySelector('#' + key + ' button');\n",
              "          quickchartButtonEl.disabled = true;  // To prevent multiple clicks.\n",
              "          quickchartButtonEl.classList.add('colab-df-spinner');\n",
              "          try {\n",
              "            const charts = await google.colab.kernel.invokeFunction(\n",
              "                'suggestCharts', [key], {});\n",
              "          } catch (error) {\n",
              "            console.error('Error during call to suggestCharts:', error);\n",
              "          }\n",
              "          quickchartButtonEl.classList.remove('colab-df-spinner');\n",
              "          quickchartButtonEl.classList.add('colab-df-quickchart-complete');\n",
              "        }\n",
              "        (() => {\n",
              "          let quickchartButtonEl =\n",
              "            document.querySelector('#df-300da309-c48d-42ac-9bf3-b1c9f3f9b86d button');\n",
              "          quickchartButtonEl.style.display =\n",
              "            google.colab.kernel.accessAllowed ? 'block' : 'none';\n",
              "        })();\n",
              "      </script>\n",
              "    </div>\n",
              "    </div>\n",
              "  </div>\n"
            ],
            "application/vnd.google.colaboratory.intrinsic+json": {
              "type": "dataframe",
              "variable_name": "df",
              "summary": "{\n  \"name\": \"df\",\n  \"rows\": 3,\n  \"fields\": [\n    {\n      \"column\": \"\\u0646\\u0627\\u0645\",\n      \"properties\": {\n        \"dtype\": \"string\",\n        \"num_unique_values\": 3,\n        \"samples\": [\n          \"\\u0639\\u0644\\u06cc \\u0631\\u0636\\u0627\\u06cc\\u06cc\",\n          \"\\u0645\\u06cc\\u0646\\u0627 \\u0645\\u0631\\u0627\\u062f\\u06cc\",\n          \"\\u062d\\u0633\\u06cc\\u0646 \\u0627\\u062d\\u0645\\u062f\\u06cc\"\n        ],\n        \"semantic_type\": \"\",\n        \"description\": \"\"\n      }\n    },\n    {\n      \"column\": \"\\u0634\\u0645\\u0627\\u0631\\u0647 \\u067e\\u0631\\u0633\\u0646\\u0644\\u06cc\",\n      \"properties\": {\n        \"dtype\": \"number\",\n        \"std\": 1,\n        \"min\": 1001,\n        \"max\": 1003,\n        \"num_unique_values\": 3,\n        \"samples\": [\n          1001,\n          1002,\n          1003\n        ],\n        \"semantic_type\": \"\",\n        \"description\": \"\"\n      }\n    },\n    {\n      \"column\": \"\\u0633\\u0645\\u062a\",\n      \"properties\": {\n        \"dtype\": \"string\",\n        \"num_unique_values\": 3,\n        \"samples\": [\n          \"\\u0645\\u0633\\u0626\\u0648\\u0644 \\u062f\\u0628\\u06cc\\u0631\\u062e\\u0627\\u0646\\u0647\",\n          \"\\u06a9\\u0627\\u0631\\u0634\\u0646\\u0627\\u0633 \\u0628\\u0627\\u06cc\\u06af\\u0627\\u0646\\u06cc\",\n          \"\\u0645\\u0633\\u0626\\u0648\\u0644 \\u062f\\u0641\\u062a\\u0631\"\n        ],\n        \"semantic_type\": \"\",\n        \"description\": \"\"\n      }\n    },\n    {\n      \"column\": \"\\u062d\\u0642\\u0648\\u0642\",\n      \"properties\": {\n        \"dtype\": \"number\",\n        \"std\": 1000000,\n        \"min\": 11000000,\n        \"max\": 13000000,\n        \"num_unique_values\": 3,\n        \"samples\": [\n          12000000,\n          11000000,\n          13000000\n        ],\n        \"semantic_type\": \"\",\n        \"description\": \"\"\n      }\n    },\n    {\n      \"column\": \"\\u062a\\u0627\\u0631\\u06cc\\u062e \\u0627\\u0633\\u062a\\u062e\\u062f\\u0627\\u0645\",\n      \"properties\": {\n        \"dtype\": \"string\",\n        \"num_unique_values\": 3,\n        \"samples\": [\n          \"1398/02/15\",\n          \"1399/06/01\",\n          \"1400/01/20\"\n        ],\n        \"semantic_type\": \"\",\n        \"description\": \"\"\n      }\n    }\n  ]\n}"
            }
          },
          "metadata": {},
          "execution_count": 2
        }
      ],
      "source": [
        "import pandas as pd\n",
        "from docx import Document\n",
        "from google.colab import drive\n",
        "# اتصال Google Drive\n",
        "drive.mount('/content/drive')\n",
        "\n",
        "excel_path = \"/content/drive/MyDrive/کارمندان.xlsx\"\n",
        "df = pd.read_excel(excel_path)\n",
        "df.head()"
      ]
    },
    {
      "cell_type": "markdown",
      "id": "fad6ee11",
      "metadata": {
        "id": "fad6ee11"
      },
      "source": [
        "## 3. خواندن فایل Word"
      ]
    },
    {
      "cell_type": "code",
      "execution_count": 3,
      "id": "edfb89a3",
      "metadata": {
        "id": "edfb89a3",
        "outputId": "ca91642d-5ded-4e7c-d9ea-142d499a3db3",
        "colab": {
          "base_uri": "https://localhost:8080/"
        }
      },
      "outputs": [
        {
          "output_type": "stream",
          "name": "stdout",
          "text": [
            "متن نمونه برای جستجو\n",
            "این متن شامل اطلاعاتی درباره کارمندان است. علی رضایی مسئول دبیرخانه می‌باشد.\n",
            "مینا مرادی به عنوان کارشناس بایگانی فعالیت می‌کند.\n",
            "حسین احمدی در حال حاضر مسئول دفتر است.\n"
          ]
        }
      ],
      "source": [
        "from docx import Document\n",
        "\n",
        "word_path = \"/content/drive/MyDrive/نامه_اداری.docx\"\n",
        "doc = Document(word_path)\n",
        "text = \"\\n\".join([p.text for p in doc.paragraphs])\n",
        "print(text)"
      ]
    },
    {
      "cell_type": "markdown",
      "id": "a61f1b76",
      "metadata": {
        "id": "a61f1b76"
      },
      "source": [
        "## 4. بررسی وجود نام‌های فایل Excel در متن Word"
      ]
    },
    {
      "cell_type": "code",
      "execution_count": 4,
      "id": "5d35dfe4",
      "metadata": {
        "id": "5d35dfe4",
        "outputId": "b41f829e-ec48-409b-aa10-39bdf920ba71",
        "colab": {
          "base_uri": "https://localhost:8080/"
        }
      },
      "outputs": [
        {
          "output_type": "stream",
          "name": "stdout",
          "text": [
            "✅ نام 'علی رضایی' در متن Word آمده است.\n",
            "✅ نام 'مینا مرادی' در متن Word آمده است.\n",
            "✅ نام 'حسین احمدی' در متن Word آمده است.\n"
          ]
        }
      ],
      "source": [
        "for name in df[\"نام\"]:\n",
        "    if name in text:\n",
        "        print(f\"✅ نام '{name}' در متن Word آمده است.\")\n",
        "    else:\n",
        "        print(f\"❌ نام '{name}' در متن Word پیدا نشد.\")"
      ]
    }
  ],
  "metadata": {
    "colab": {
      "provenance": [],
      "include_colab_link": true
    },
    "language_info": {
      "name": "python"
    },
    "kernelspec": {
      "name": "python3",
      "display_name": "Python 3"
    }
  },
  "nbformat": 4,
  "nbformat_minor": 5
}