{
 "cells": [
  {
   "cell_type": "markdown",
   "id": "06e35eb1",
   "metadata": {},
   "source": [
    "# جلسه ۵: پروژه نهایی - ترکیب Excel و Word"
   ]
  },
  {
   "cell_type": "markdown",
   "id": "e68e0a7e",
   "metadata": {},
   "source": [
    "در این پروژه نهایی می‌خواهیم اطلاعاتی از فایل Excel و Word را ترکیب کنیم. مثلاً ببینیم آیا نام افراد فایل Excel در متن Word نیز آمده یا نه."
   ]
  },
  {
   "cell_type": "markdown",
   "id": "87cbaddc",
   "metadata": {},
   "source": [
    "## 1. نصب کتابخانه‌های مورد نیاز"
   ]
  },
  {
   "cell_type": "code",
   "execution_count": null,
   "id": "1bbeaa08",
   "metadata": {},
   "outputs": [],
   "source": [
    "!pip install pandas python-docx"
   ]
  },
  {
   "cell_type": "markdown",
   "id": "ef48cc97",
   "metadata": {},
   "source": [
    "## 2. خواندن فایل Excel"
   ]
  },
  {
   "cell_type": "code",
   "execution_count": null,
   "id": "a2bc4078",
   "metadata": {},
   "outputs": [],
   "source": [
    "import pandas as pd\n",
    "\n",
    "excel_path = \"/content/drive/MyDrive/کارمندان.xlsx\"\n",
    "df = pd.read_excel(excel_path)\n",
    "df.head()"
   ]
  },
  {
   "cell_type": "markdown",
   "id": "fad6ee11",
   "metadata": {},
   "source": [
    "## 3. خواندن فایل Word"
   ]
  },
  {
   "cell_type": "code",
   "execution_count": null,
   "id": "edfb89a3",
   "metadata": {},
   "outputs": [],
   "source": [
    "from docx import Document\n",
    "\n",
    "word_path = \"/content/drive/MyDrive/نامه_اداری.docx\"\n",
    "doc = Document(word_path)\n",
    "text = \"\\n\".join([p.text for p in doc.paragraphs])\n",
    "print(text)"
   ]
  },
  {
   "cell_type": "markdown",
   "id": "a61f1b76",
   "metadata": {},
   "source": [
    "## 4. بررسی وجود نام‌های فایل Excel در متن Word"
   ]
  },
  {
   "cell_type": "code",
   "execution_count": null,
   "id": "5d35dfe4",
   "metadata": {},
   "outputs": [],
   "source": [
    "for name in df[\"نام\"]:\n",
    "    if name in text:\n",
    "        print(f\"✅ نام '{name}' در متن Word آمده است.\")\n",
    "    else:\n",
    "        print(f\"❌ نام '{name}' در متن Word پیدا نشد.\")"
   ]
  }
 ],
 "metadata": {},
 "nbformat": 4,
 "nbformat_minor": 5
}
