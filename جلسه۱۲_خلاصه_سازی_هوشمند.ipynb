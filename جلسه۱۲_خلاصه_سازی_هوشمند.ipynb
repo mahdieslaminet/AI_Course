{
 "cells": [
  {
   "cell_type": "markdown",
   "id": "197d8d22",
   "metadata": {},
   "source": [
    "# جلسه ۱۲: تحلیل خودکار فایل و خلاصه‌سازی هوشمند با هوش مصنوعی"
   ]
  },
  {
   "cell_type": "markdown",
   "id": "c9913075",
   "metadata": {},
   "source": [
    "\n",
    "🎯 **هدف:**  \n",
    "در این جلسه با استفاده از هوش مصنوعی (مدل‌های آماده مثل `transformers`) یک فایل متنی یا Word را تحلیل می‌کنیم و خلاصه‌ای از آن تولید می‌کنیم.\n",
    "\n",
    "🛠️ **سرفصل‌ها:**  \n",
    "1. نصب مدل زبان هوش مصنوعی  \n",
    "2. آپلود فایل متنی یا Word  \n",
    "3. استخراج متن  \n",
    "4. خلاصه‌سازی با هوش مصنوعی\n"
   ]
  },
  {
   "cell_type": "markdown",
   "id": "b0cd04ae",
   "metadata": {},
   "source": [
    "## 1. نصب مدل هوش مصنوعی"
   ]
  },
  {
   "cell_type": "code",
   "execution_count": null,
   "id": "7d6b6dbf",
   "metadata": {},
   "outputs": [],
   "source": [
    "!pip install transformers --quiet\n",
    "!pip install python-docx --quiet"
   ]
  },
  {
   "cell_type": "markdown",
   "id": "a317fc6d",
   "metadata": {},
   "source": [
    "## 2. آپلود فایل متنی یا Word"
   ]
  },
  {
   "cell_type": "code",
   "execution_count": null,
   "id": "6207cf8c",
   "metadata": {},
   "outputs": [],
   "source": [
    "from google.colab import files\n",
    "uploaded = files.upload()\n",
    "\n",
    "text = \"\"\n",
    "for fn in uploaded:\n",
    "    if fn.endswith(\".docx\"):\n",
    "        from docx import Document\n",
    "        doc = Document(fn)\n",
    "        text = \"\\n\".join([p.text for p in doc.paragraphs])\n",
    "    elif fn.endswith(\".txt\"):\n",
    "        with open(fn, encoding='utf-8') as f:\n",
    "            text = f.read()\n",
    "\n",
    "print(\"✏️ پیش‌نمایش متن:\n",
    "\")\n",
    "print(text[:1000])"
   ]
  },
  {
   "cell_type": "markdown",
   "id": "74b3f6a1",
   "metadata": {},
   "source": [
    "## 3. خلاصه‌سازی هوشمند با Transformers"
   ]
  },
  {
   "cell_type": "code",
   "execution_count": null,
   "id": "c55ba3d0",
   "metadata": {},
   "outputs": [],
   "source": [
    "from transformers import pipeline\n",
    "\n",
    "summarizer = pipeline(\"summarization\", model=\"sshleifer/distilbart-cnn-12-6\")\n",
    "\n",
    "if text:\n",
    "    print(\"⏳ در حال خلاصه‌سازی...\")\n",
    "    summary = summarizer(text, max_length=130, min_length=30, do_sample=False)[0]['summary_text']\n",
    "    print(\"\\n📌 خلاصه نهایی:\")\n",
    "    print(summary)\n",
    "else:\n",
    "    print(\"⚠️ متنی برای خلاصه‌سازی یافت نشد.\")"
   ]
  }
 ],
 "metadata": {},
 "nbformat": 4,
 "nbformat_minor": 5
}
