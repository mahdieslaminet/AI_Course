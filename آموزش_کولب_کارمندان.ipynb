{
 "cells": [
  {
   "cell_type": "markdown",
   "id": "c94fe7f6",
   "metadata": {},
   "source": [
    "# آموزش کار با Colab برای کارمندان دبیرخانه"
   ]
  },
  {
   "cell_type": "markdown",
   "id": "bbe06eea",
   "metadata": {},
   "source": [
    "## 1. اتصال به Google Drive\n",
    "برای استفاده از فایل‌ها، ابتدا باید Google Drive خود را به Colab وصل کنید."
   ]
  },
  {
   "cell_type": "code",
   "execution_count": null,
   "id": "e3998f49",
   "metadata": {},
   "outputs": [],
   "source": [
    "from google.colab import drive\n",
    "drive.mount('/content/drive')"
   ]
  },
  {
   "cell_type": "markdown",
   "id": "a1a9fc9c",
   "metadata": {},
   "source": [
    "## 2. نصب کتابخانه‌های لازم\n",
    "این کتابخانه‌ها برای کار با فایل‌های Excel و Word استفاده می‌شوند."
   ]
  },
  {
   "cell_type": "code",
   "execution_count": null,
   "id": "e52dcb79",
   "metadata": {},
   "outputs": [],
   "source": [
    "!pip install pandas openpyxl python-docx"
   ]
  },
  {
   "cell_type": "markdown",
   "id": "0d925d7c",
   "metadata": {},
   "source": [
    "## 3. خواندن فایل Excel\n",
    "در این مرحله یک فایل Excel را از Drive می‌خوانیم و نمایش می‌دهیم."
   ]
  },
  {
   "cell_type": "code",
   "execution_count": null,
   "id": "2044963e",
   "metadata": {},
   "outputs": [],
   "source": [
    "import pandas as pd\n",
    "\n",
    "# مسیر فایل خود را از Google Drive مشخص کنید\n",
    "file_path = \"/content/drive/MyDrive/کارمندان.xlsx\"\n",
    "\n",
    "df = pd.read_excel(file_path)\n",
    "df.head()"
   ]
  },
  {
   "cell_type": "markdown",
   "id": "124f4dd1",
   "metadata": {},
   "source": [
    "## 4. جستجو در داده‌های Excel\n",
    "مثلاً دنبال افرادی با سمت «مسئول» می‌گردیم."
   ]
  },
  {
   "cell_type": "code",
   "execution_count": null,
   "id": "47aa6ae5",
   "metadata": {},
   "outputs": [],
   "source": [
    "df[df[\"سمت\"].str.contains(\"مسئول\")]"
   ]
  },
  {
   "cell_type": "markdown",
   "id": "9a81c897",
   "metadata": {},
   "source": [
    "## 5. خواندن فایل Word و جستجوی متن\n",
    "متن فایل Word را می‌خوانیم و به دنبال نام خاصی می‌گردیم."
   ]
  },
  {
   "cell_type": "code",
   "execution_count": null,
   "id": "041e0afa",
   "metadata": {},
   "outputs": [],
   "source": [
    "from docx import Document\n",
    "\n",
    "# مسیر فایل Word از Google Drive\n",
    "doc_path = \"/content/drive/MyDrive/نامه_اداری.docx\"\n",
    "\n",
    "doc = Document(doc_path)\n",
    "full_text = \"\\n\".join([p.text for p in doc.paragraphs])\n",
    "print(full_text)\n",
    "\n",
    "# جستجوی نام\n",
    "search_word = \"علی رضایی\"\n",
    "print(f\"آیا '{search_word}' در متن وجود دارد؟\", search_word in full_text)"
   ]
  }
 ],
 "metadata": {},
 "nbformat": 4,
 "nbformat_minor": 5
}
