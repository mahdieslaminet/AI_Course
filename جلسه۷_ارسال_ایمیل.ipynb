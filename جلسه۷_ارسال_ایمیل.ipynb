{
 "cells": [
  {
   "cell_type": "markdown",
   "id": "2259cf91",
   "metadata": {},
   "source": [
    "# جلسه ۷: ارسال ایمیل خودکار با استفاده از اطلاعات فایل Excel"
   ]
  },
  {
   "cell_type": "markdown",
   "id": "e9f1b5f9",
   "metadata": {},
   "source": [
    "\n",
    "🎯 **هدف:**  \n",
    "در این جلسه یاد می‌گیریم چطور با استفاده از اطلاعات موجود در فایل Excel (مثل ایمیل، نام و پیام)، ایمیل‌های شخصی‌سازی‌شده ارسال کنیم.\n",
    "\n",
    "🛠️ **سرفصل‌ها:**  \n",
    "1. خواندن اطلاعات ایمیل از فایل Excel  \n",
    "2. اتصال به Gmail با SMTP  \n",
    "3. ارسال ایمیل برای هر ردیف از جدول  \n",
    "(⚠️ نیاز به فعال‌سازی «دسترسی برنامه‌های کمتر ایمن» یا استفاده از App Password در Gmail است)\n"
   ]
  },
  {
   "cell_type": "markdown",
   "id": "aa3ef410",
   "metadata": {},
   "source": [
    "## 1. نصب کتابخانه موردنیاز"
   ]
  },
  {
   "cell_type": "code",
   "execution_count": null,
   "id": "caf0b6d7",
   "metadata": {},
   "outputs": [],
   "source": [
    "!pip install pandas"
   ]
  },
  {
   "cell_type": "markdown",
   "id": "e0090f52",
   "metadata": {},
   "source": [
    "## 2. خواندن اطلاعات ایمیل از فایل Excel"
   ]
  },
  {
   "cell_type": "code",
   "execution_count": null,
   "id": "f205a248",
   "metadata": {},
   "outputs": [],
   "source": [
    "import pandas as pd\n",
    "\n",
    "file_path = \"/content/drive/MyDrive/لیست_ایمیل.xlsx\"\n",
    "df = pd.read_excel(file_path)\n",
    "df.head()"
   ]
  },
  {
   "cell_type": "markdown",
   "id": "5387c8fa",
   "metadata": {},
   "source": [
    "## 3. ارسال ایمیل به مخاطبین"
   ]
  },
  {
   "cell_type": "code",
   "execution_count": null,
   "id": "c3015181",
   "metadata": {},
   "outputs": [],
   "source": [
    "import smtplib\n",
    "from email.mime.text import MIMEText\n",
    "\n",
    "# اطلاعات ورود به Gmail\n",
    "sender_email = \"your_email@gmail.com\"\n",
    "password = \"your_app_password\"  # یا App Password\n",
    "\n",
    "# اتصال به Gmail SMTP\n",
    "server = smtplib.SMTP(\"smtp.gmail.com\", 587)\n",
    "server.starttls()\n",
    "server.login(sender_email, password)\n",
    "\n",
    "# ارسال برای هر ردیف\n",
    "for index, row in df.iterrows():\n",
    "    recipient = row[\"ایمیل\"]\n",
    "    subject = row[\"موضوع\"]\n",
    "    message = row[\"متن\"]\n",
    "    \n",
    "    msg = MIMEText(message)\n",
    "    msg[\"Subject\"] = subject\n",
    "    msg[\"From\"] = sender_email\n",
    "    msg[\"To\"] = recipient\n",
    "\n",
    "    server.sendmail(sender_email, recipient, msg.as_string())\n",
    "    print(f\"ایمیل به {recipient} ارسال شد.\")\n",
    "\n",
    "server.quit()"
   ]
  },
  {
   "cell_type": "markdown",
   "id": "93d823d9",
   "metadata": {},
   "source": [
    "⚠️ برای استفاده از این کد باید **App Password** در Gmail بسازید یا اجازه ارسال از برنامه‌های کمتر ایمن را بدهید. پیشنهاد می‌شود از [App Password](https://myaccount.google.com/apppasswords) استفاده شود."
   ]
  }
 ],
 "metadata": {},
 "nbformat": 4,
 "nbformat_minor": 5
}
