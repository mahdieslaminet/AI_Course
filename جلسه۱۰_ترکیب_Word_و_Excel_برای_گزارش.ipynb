{
 "cells": [
  {
   "cell_type": "markdown",
   "id": "70285439",
   "metadata": {},
   "source": [
    "# جلسه ۱۰: ترکیب چند فایل Word و Excel و ساخت گزارش نهایی"
   ]
  },
  {
   "cell_type": "markdown",
   "id": "7a6ee401",
   "metadata": {},
   "source": [
    "\n",
    "🎯 **هدف:**  \n",
    "در این جلسه یاد می‌گیریم چگونه چند فایل Word و Excel را با هم ترکیب کنیم، اطلاعاتشان را استخراج کرده و یک گزارش نهایی بسازیم.\n",
    "\n",
    "🛠️ **سرفصل‌ها:**  \n",
    "1. آپلود چند فایل از سیستم  \n",
    "2. خواندن فایل‌های Excel  \n",
    "3. خواندن فایل‌های Word  \n",
    "4. ترکیب اطلاعات و ساخت یک جدول خلاصه\n"
   ]
  },
  {
   "cell_type": "markdown",
   "id": "ead59100",
   "metadata": {},
   "source": [
    "## 1. نصب کتابخانه‌های موردنیاز"
   ]
  },
  {
   "cell_type": "code",
   "execution_count": null,
   "id": "c0a88b1a",
   "metadata": {},
   "outputs": [],
   "source": [
    "!pip install pandas python-docx"
   ]
  },
  {
   "cell_type": "markdown",
   "id": "c82facf5",
   "metadata": {},
   "source": [
    "## 2. آپلود چند فایل از سیستم"
   ]
  },
  {
   "cell_type": "code",
   "execution_count": null,
   "id": "0c2216f9",
   "metadata": {},
   "outputs": [],
   "source": [
    "from google.colab import files\n",
    "\n",
    "uploaded = files.upload()  # انتخاب و آپلود چند فایل Excel یا Word"
   ]
  },
  {
   "cell_type": "markdown",
   "id": "8aa0f32a",
   "metadata": {},
   "source": [
    "## 3. جداسازی فایل‌های Word و Excel"
   ]
  },
  {
   "cell_type": "code",
   "execution_count": null,
   "id": "6012b7bd",
   "metadata": {},
   "outputs": [],
   "source": [
    "import pandas as pd\n",
    "from docx import Document\n",
    "\n",
    "excel_data = []\n",
    "word_data = []\n",
    "\n",
    "for fn in uploaded:\n",
    "    if fn.endswith(\".xlsx\"):\n",
    "        df = pd.read_excel(fn)\n",
    "        excel_data.append(df)\n",
    "    elif fn.endswith(\".docx\"):\n",
    "        doc = Document(fn)\n",
    "        text = \"\n",
    "\".join([p.text for p in doc.paragraphs])\n",
    "        word_data.append(text)\n",
    "\n",
    "print(f\"📊 تعداد فایل‌های Excel: {len(excel_data)}\")\n",
    "print(f\"📄 تعداد فایل‌های Word: {len(word_data)}\")"
   ]
  },
  {
   "cell_type": "markdown",
   "id": "add5c9d1",
   "metadata": {},
   "source": [
    "## 4. ترکیب تمام فایل‌های Excel"
   ]
  },
  {
   "cell_type": "code",
   "execution_count": null,
   "id": "0192e816",
   "metadata": {},
   "outputs": [],
   "source": [
    "if excel_data:\n",
    "    combined_excel = pd.concat(excel_data, ignore_index=True)\n",
    "    print(\"📋 پیش‌نمایش جدول نهایی:\")\n",
    "    display(combined_excel.head())\n",
    "else:\n",
    "    print(\"هیچ فایل Excel آپلود نشده است.\")"
   ]
  },
  {
   "cell_type": "markdown",
   "id": "89188c07",
   "metadata": {},
   "source": [
    "## 5. نمایش خلاصه فایل‌های Word"
   ]
  },
  {
   "cell_type": "code",
   "execution_count": null,
   "id": "57b35d1d",
   "metadata": {},
   "outputs": [],
   "source": [
    "if word_data:\n",
    "    print(\"📝 متن ترکیبی فایل‌های Word:\")\n",
    "    for i, text in enumerate(word_data):\n",
    "        print(f\"--- فایل {i+1} ---\")\n",
    "        print(text[:500], \"\n",
    "...\")\n",
    "else:\n",
    "    print(\"هیچ فایل Word آپلود نشده است.\")"
   ]
  }
 ],
 "metadata": {},
 "nbformat": 4,
 "nbformat_minor": 5
}
